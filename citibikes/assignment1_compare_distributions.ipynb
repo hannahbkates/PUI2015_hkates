{
 "cells": [
  {
   "cell_type": "markdown",
   "metadata": {},
   "source": [
    "## Assignment 1:\n",
    "Testing whether the distribution of ages is the same for\n",
    "\n",
    "1) male and female riders\n",
    "\n",
    "2) day and night riders\n",
    "\n",
    "Using 3 tests: KS, Pearson's, Spearman's"
   ]
  },
  {
   "cell_type": "code",
   "execution_count": null,
   "metadata": {
    "collapsed": false
   },
   "outputs": [],
   "source": [
    "import pylab as pl\n",
    "import pandas as pd\n",
    "import numpy as np\n",
    "import os\n",
    "import scipy.stats\n",
    "import datetime as dt\n",
    "%pylab inline"
   ]
  },
  {
   "cell_type": "markdown",
   "metadata": {},
   "source": [
    "###Importing, subdividing, and recoding data"
   ]
  },
  {
   "cell_type": "code",
   "execution_count": 78,
   "metadata": {
    "collapsed": false
   },
   "outputs": [],
   "source": [
    "trips = pd.read_csv('/Users/hannahbkates/Desktop/201410-citibike-tripdata.csv')\n",
    "# trips.head(3)"
   ]
  },
  {
   "cell_type": "code",
   "execution_count": 79,
   "metadata": {
    "collapsed": false
   },
   "outputs": [
    {
     "name": "stdout",
     "output_type": "stream",
     "text": [
      "Index([u'tripduration', u'starttime', u'stoptime', u'start station id',\n",
      "       u'start station name', u'start station latitude',\n",
      "       u'start station longitude', u'end station id', u'end station name',\n",
      "       u'end station latitude', u'end station longitude', u'bikeid',\n",
      "       u'usertype', u'birth year', u'gender'],\n",
      "      dtype='object')\n"
     ]
    }
   ],
   "source": [
    "print trips.columns"
   ]
  },
  {
   "cell_type": "code",
   "execution_count": 80,
   "metadata": {
    "collapsed": false
   },
   "outputs": [
    {
     "name": "stdout",
     "output_type": "stream",
     "text": [
      "Index([u'tripduration', u'starttime', u'stoptime', u'start station id',\n",
      "       u'start station name', u'start station latitude',\n",
      "       u'start station longitude', u'end station id', u'end station name',\n",
      "       u'end station latitude', u'end station longitude', u'bikeid',\n",
      "       u'usertype', u'birth year', u'gender', u'time'],\n",
      "      dtype='object')\n"
     ]
    }
   ],
   "source": [
    "trips['time'] = pd.to_datetime(trips['starttime'])\n",
    "trips['time'] = trips['time'].dt.hour"
   ]
  },
  {
   "cell_type": "code",
   "execution_count": 95,
   "metadata": {
    "collapsed": false
   },
   "outputs": [],
   "source": [
    "trips['age'] = 2015-trips['birth year'][(trips['birth year'] > 1925) &\n",
    "                                       (trips['usertype'] == 'Subscriber')]\n",
    "# male\n",
    "trips['ageM'] = trips['age'][trips['gender'] == 1]\n",
    "# female\n",
    "trips['ageF'] = trips['age'][trips['gender'] == 2]\n",
    "# night rider\n",
    "trips['ageN'] = trips['age'][(trips['time']<5) | (trips['time']>19)]\n",
    "# day rider\n",
    "trips['ageD'] = trips['age'][(trips['time']>=5) & (trips['time']<=19)]"
   ]
  },
  {
   "cell_type": "markdown",
   "metadata": {},
   "source": [
    "#Differences in age distribution by gender"
   ]
  },
  {
   "cell_type": "markdown",
   "metadata": {},
   "source": [
    "## Visualization"
   ]
  },
  {
   "cell_type": "code",
   "execution_count": 30,
   "metadata": {
    "collapsed": false
   },
   "outputs": [
    {
     "data": {
      "text/plain": [
       "<matplotlib.axes._subplots.AxesSubplot at 0x10dc50210>"
      ]
     },
     "execution_count": 30,
     "metadata": {},
     "output_type": "execute_result"
    },
    {
     "data": {
      "image/png": "[encoded data removed]",
      "text/plain": [
       "<matplotlib.figure.Figure at 0x13d511b50>"
      ]
     },
     "metadata": {},
     "output_type": "display_data"
    },
    {
     "data": {
      "image/png": "[encoded data removed]",
      "text/plain": [
       "<matplotlib.figure.Figure at 0x13d511990>"
      ]
     },
     "metadata": {},
     "output_type": "display_data"
    }
   ],
   "source": [
    "bins = np.arange(10, 99, 5)\n",
    "trips.ageM.groupby(pd.cut(trips.ageM, bins)).agg([count_nonzero]).plot(kind='bar')\n",
    "trips.ageF.groupby(pd.cut(trips.ageF, bins)).agg([count_nonzero]).plot(kind='bar')"
   ]
  },
  {
   "cell_type": "code",
   "execution_count": 100,
   "metadata": {
    "collapsed": false
   },
   "outputs": [
    {
     "name": "stdout",
     "output_type": "stream",
     "text": [
      "          count_nonzero\n",
      "ageM                   \n",
      "(10, 15]            NaN\n",
      "(15, 20]       0.001969\n",
      "(20, 25]       0.018638\n",
      "(25, 30]       0.065515\n",
      "(30, 35]       0.073309\n",
      "(35, 40]       0.053654\n",
      "(40, 45]       0.032280\n",
      "(45, 50]       0.018056\n",
      "(50, 55]       0.010757\n",
      "(55, 60]       0.013697\n",
      "(60, 65]       0.008268\n",
      "(65, 70]       0.003279\n",
      "(70, 75]       0.000351\n",
      "(75, 80]       0.000060\n",
      "(80, 85]       0.000090\n",
      "(85, 90]       0.000000\n",
      "(90, 95]            NaN\n"
     ]
    },
    {
     "data": {
      "text/plain": [
       "<matplotlib.legend.Legend at 0x10a453150>"
      ]
     },
     "execution_count": 100,
     "metadata": {},
     "output_type": "execute_result"
    },
    {
     "data": {
      "image/png": "[encoded data removed]",
      "text/plain": [
       "<matplotlib.figure.Figure at 0x113e4a090>"
      ]
     },
     "metadata": {},
     "output_type": "display_data"
    }
   ],
   "source": [
    "csM = trips.ageM.groupby(pd.cut(trips.ageM, bins)).agg([count_nonzero]).cumsum()\n",
    "csF = trips.ageF.groupby(pd.cut(trips.ageF, bins)).agg([count_nonzero]).cumsum()\n",
    "\n",
    "print np.abs(csM / csM.max()-csF / csF.max())\n",
    "\n",
    "pl.plot(bins[:-1] + 5, csM / csM.max(), label = \"Male rider\")\n",
    "pl.plot(bins[:-1] + 5, csF / csF.max(), label = \"Female rider\")\n",
    "pl.legend()"
   ]
  },
  {
   "cell_type": "markdown",
   "metadata": {},
   "source": [
    "##Statistical analysis"
   ]
  },
  {
   "cell_type": "markdown",
   "metadata": {},
   "source": [
    "### 1. K-S Statistic"
   ]
  },
  {
   "cell_type": "code",
   "execution_count": 108,
   "metadata": {
    "collapsed": false
   },
   "outputs": [
    {
     "name": "stdout",
     "output_type": "stream",
     "text": [
      "Genders:\n",
      "K-S Statistic: 0.0733091748557\n",
      "p-value: 0.0\n"
     ]
    }
   ],
   "source": [
    "ks_mf = scipy.stats.ks_2samp(trips.ageM[~np.isnan(trips.ageM)], trips.ageF[~np.isnan(trips.ageF)])\n",
    "print 'Genders:'\n",
    "print 'K-S Statistic:', ks_mf[0]\n",
    "print 'p-value:', ks_mf[1]"
   ]
  },
  {
   "cell_type": "markdown",
   "metadata": {},
   "source": [
    "It is likely that the two samples came from the same distribution."
   ]
  },
  {
   "cell_type": "markdown",
   "metadata": {},
   "source": [
    "### 2. Pearson's"
   ]
  },
  {
   "cell_type": "code",
   "execution_count": 113,
   "metadata": {
    "collapsed": false
   },
   "outputs": [
    {
     "name": "stdout",
     "output_type": "stream",
     "text": [
      "Genders:\n",
      "Correlation coefficient: (nan, 1.0)\n"
     ]
    }
   ],
   "source": [
    "pear_mf = scipy.stats.pearsonr(trips.ageM, trips.ageF)\n",
    "print 'Genders:'\n",
    "print 'Correlation coefficient:', pear_mf"
   ]
  },
  {
   "cell_type": "markdown",
   "metadata": {},
   "source": [
    "The two samples do correlate with each other."
   ]
  },
  {
   "cell_type": "markdown",
   "metadata": {},
   "source": [
    "### 3. Spearman's"
   ]
  },
  {
   "cell_type": "code",
   "execution_count": 110,
   "metadata": {
    "collapsed": false
   },
   "outputs": [
    {
     "name": "stdout",
     "output_type": "stream",
     "text": [
      "Genders:\n",
      "Correlation coefficient: -0.436065517059\n",
      "p-value: 0.0\n"
     ]
    }
   ],
   "source": [
    "spear_mf = scipy.stats.spearmanr(trips.ageM, trips.ageF)\n",
    "print 'Genders:'\n",
    "print 'Correlation coefficient:', spear_mf[0]\n",
    "print 'p-value:', spear_mf[1]"
   ]
  },
  {
   "cell_type": "markdown",
   "metadata": {},
   "source": [
    "The two samples do correlate with each other."
   ]
  },
  {
   "cell_type": "markdown",
   "metadata": {},
   "source": [
    "#Differences in age distribution by daytime vs. nighttime"
   ]
  },
  {
   "cell_type": "markdown",
   "metadata": {},
   "source": [
    "##Visualization"
   ]
  },
  {
   "cell_type": "code",
   "execution_count": 98,
   "metadata": {
    "collapsed": false
   },
   "outputs": [
    {
     "data": {
      "text/plain": [
       "<matplotlib.axes._subplots.AxesSubplot at 0x1085a47d0>"
      ]
     },
     "execution_count": 98,
     "metadata": {},
     "output_type": "execute_result"
    },
    {
     "data": {
      "image/png": "[encoded data removed]",
      "text/plain": [
       "<matplotlib.figure.Figure at 0x10a275750>"
      ]
     },
     "metadata": {},
     "output_type": "display_data"
    },
    {
     "data": {
      "image/png": "[encoded data removed]",
      "text/plain": [
       "<matplotlib.figure.Figure at 0x108a94050>"
      ]
     },
     "metadata": {},
     "output_type": "display_data"
    }
   ],
   "source": [
    "bins = np.arange(10, 99, 5)\n",
    "trips.ageD.groupby(pd.cut(trips.ageD, bins)).agg([count_nonzero]).plot(kind='bar')\n",
    "trips.ageN.groupby(pd.cut(trips.ageN, bins)).agg([count_nonzero]).plot(kind='bar')"
   ]
  },
  {
   "cell_type": "code",
   "execution_count": 99,
   "metadata": {
    "collapsed": false
   },
   "outputs": [
    {
     "name": "stdout",
     "output_type": "stream",
     "text": [
      "          count_nonzero\n",
      "ageD                   \n",
      "(10, 15]            NaN\n",
      "(15, 20]       0.003961\n",
      "(20, 25]       0.049335\n",
      "(25, 30]       0.117681\n",
      "(30, 35]       0.142799\n",
      "(35, 40]       0.127169\n",
      "(40, 45]       0.098724\n",
      "(45, 50]       0.064875\n",
      "(50, 55]       0.038356\n",
      "(55, 60]       0.019793\n",
      "(60, 65]       0.007836\n",
      "(65, 70]       0.002693\n",
      "(70, 75]       0.000640\n",
      "(75, 80]       0.000250\n",
      "(80, 85]            NaN\n",
      "(85, 90]       0.000000\n",
      "(90, 95]            NaN\n"
     ]
    },
    {
     "data": {
      "text/plain": [
       "<matplotlib.legend.Legend at 0x10ce0ee10>"
      ]
     },
     "execution_count": 99,
     "metadata": {},
     "output_type": "execute_result"
    },
    {
     "data": {
      "image/png": "[encoded data removed]",
      "text/plain": [
       "<matplotlib.figure.Figure at 0x10f5fa990>"
      ]
     },
     "metadata": {},
     "output_type": "display_data"
    }
   ],
   "source": [
    "csD = trips.ageD.groupby(pd.cut(trips.ageD, bins)).agg([count_nonzero]).cumsum()\n",
    "csN = trips.ageN.groupby(pd.cut(trips.ageN, bins)).agg([count_nonzero]).cumsum()\n",
    "\n",
    "print np.abs(csD / csD.max()-csN / csN.max())\n",
    "\n",
    "pl.plot(bins[:-1] + 5, csD / csD.max(), label = \"Daytime rider\")\n",
    "pl.plot(bins[:-1] + 5, csN / csN.max(), label = \"Nighttime rider\")\n",
    "pl.legend()"
   ]
  },
  {
   "cell_type": "markdown",
   "metadata": {},
   "source": [
    "##Statistical analysis"
   ]
  },
  {
   "cell_type": "markdown",
   "metadata": {},
   "source": [
    "### 1. K-S Statistic"
   ]
  },
  {
   "cell_type": "code",
   "execution_count": 101,
   "metadata": {
    "collapsed": false
   },
   "outputs": [
    {
     "name": "stdout",
     "output_type": "stream",
     "text": [
      "Day vs. Night:\n",
      "K-S Statistic: 0.143385710892\n",
      "p-value: 0.0\n"
     ]
    }
   ],
   "source": [
    "ks_dn = scipy.stats.ks_2samp(trips.ageD[~np.isnan(trips.ageD)], trips.ageN[~np.isnan(trips.ageN)])\n",
    "print 'Day vs. Night:'\n",
    "print 'K-S Statistic:', ks_dn[0]\n",
    "print 'p-value:', ks_dn[1]"
   ]
  },
  {
   "cell_type": "markdown",
   "metadata": {},
   "source": [
    "### 2. Pearson's"
   ]
  },
  {
   "cell_type": "code",
   "execution_count": 105,
   "metadata": {
    "collapsed": false
   },
   "outputs": [
    {
     "name": "stdout",
     "output_type": "stream",
     "text": [
      "Day vs. Night:\n",
      "Correlation coefficient: (nan, 1.0)\n"
     ]
    }
   ],
   "source": [
    "pear_dn = scipy.stats.pearsonr(trips.ageD, trips.ageN)\n",
    "print 'Day vs. Night:'\n",
    "print 'Correlation coefficient:', pear_dn"
   ]
  },
  {
   "cell_type": "markdown",
   "metadata": {},
   "source": [
    "### 3. Spearman's"
   ]
  },
  {
   "cell_type": "code",
   "execution_count": 111,
   "metadata": {
    "collapsed": false
   },
   "outputs": [
    {
     "name": "stdout",
     "output_type": "stream",
     "text": [
      "Day vs. Night:\n",
      "Correlation coefficient: -0.282649459022\n",
      "p-value: 0.0\n"
     ]
    }
   ],
   "source": [
    "spear_dn = scipy.stats.spearmanr(trips.ageD, trips.ageN)\n",
    "print 'Day vs. Night:'\n",
    "print 'Correlation coefficient:', spear_dn[0]\n",
    "print 'p-value:', spear_dn[1]"
   ]
  },
  {
   "cell_type": "code",
   "execution_count": null,
   "metadata": {
    "collapsed": true
   },
   "outputs": [],
   "source": []
  }
 ],
 "metadata": {
  "kernelspec": {
   "display_name": "Python 2",
   "language": "python",
   "name": "python2"
  },
  "language_info": {
   "codemirror_mode": {
    "name": "ipython",
    "version": 2
   },
   "file_extension": ".py",
   "mimetype": "text/x-python",
   "name": "python",
   "nbconvert_exporter": "python",
   "pygments_lexer": "ipython2",
   "version": "2.7.10"
  }
 },
 "nbformat": 4,
 "nbformat_minor": 0
}
