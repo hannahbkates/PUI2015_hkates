{
 "cells": [
  {
   "cell_type": "markdown",
   "metadata": {},
   "source": [
    "###Sept 30, 2015 \n",
    "###Author: Hannah Kates\n",
    "\n",
    "Original study:\n",
    "http://www.mdrc.org/sites/default/files/What%20Strategies%20Work%20for%20the%20Hard%20FR.pdf \n",
    "\n",
    "Examining whether the former inmate was or was not ever employed in a CEO transitional job 3 years after release (5th row of the table)"
   ]
  },
  {
   "cell_type": "markdown",
   "metadata": {},
   "source": [
    "#Z-Test:"
   ]
  },
  {
   "cell_type": "code",
   "execution_count": 44,
   "metadata": {
    "collapsed": false
   },
   "outputs": [
    {
     "name": "stdout",
     "output_type": "stream",
     "text": [
      "['sample proportion = ', 0.527956]\n",
      "['P_0 = ', 0.521, ', n_o = ', 409.0, ', n_1 = ', 564.0, ', stdev = ', 0.016015]\n",
      "['z-score = ', 0.749292]\n"
     ]
    }
   ],
   "source": [
    "import os\n",
    "import sys\n",
    "import numpy as np\n",
    "import pylab as pl\n",
    "\n",
    "P_0 = 52.1*.01\n",
    "P_1 = 53.3*.01\n",
    "\n",
    "n_0 = 409\n",
    "n_1 = 564\n",
    "\n",
    "Nt_0 = P_0*n_0\n",
    "Nt_1 = P_1*n_1\n",
    "\n",
    "# define the sample proportion\n",
    "sp_3y = (P_0*n_0+P_1*n_1)/(n_1+n_0)\n",
    "print (['sample proportion = ', round(sp_3y,6)])\n",
    "\n",
    "# sp_stdev_3y=...\n",
    "sp_stdev = lambda p, n: np.sqrt(p*(1-p)/n)\n",
    "\n",
    "sp_stdev_3y = sp_stdev(P_0,n_0+n_1)\n",
    "print (['P_0 = ', round(P_0,6), ', n_o = ', round(n_0,6), ', n_1 = ', round(n_1,6), ', stdev = ', round(sp_stdev_3y,6)])\n",
    "\n",
    "# z_3y = ...\n",
    "zscore = lambda p0, p1, s : (p0-p1)/s\n",
    "z_3y = zscore(P_1, P_0, sp_stdev_3y)\n",
    "print (['z-score = ', round(z_3y,6)])\n"
   ]
  },
  {
   "cell_type": "markdown",
   "metadata": {},
   "source": [
    "### The z-score of 0.749 gives a P=0.7734 at an alpha of 0.05"
   ]
  },
  {
   "cell_type": "code",
   "execution_count": 45,
   "metadata": {
    "collapsed": false
   },
   "outputs": [
    {
     "name": "stdout",
     "output_type": "stream",
     "text": [
      "0.2266\n",
      "is the p value 0.23 smaller than the critical value 0.05? \n",
      "NO!\n",
      "the Null hypothesis is not rejected\n"
     ]
    }
   ],
   "source": [
    "# looked at table to find p value for 0.749, rounded to 0.75\n",
    "p_3y = 1-0.7734\n",
    "\n",
    "print p_3y\n",
    "alpha = 0.05\n",
    "\n",
    "# report_result...\n",
    "def report_result(p,a):\n",
    "    print 'is the p value {0:.2f} smaller than the critical value {1:.2f}? '.format(p,a)\n",
    "    if p<a:\n",
    "        print \"YES!\"\n",
    "    else: print \"NO!\"\n",
    "    \n",
    "    print 'the Null hypothesis is {}'.format( 'rejected' if p<a  else 'not rejected') \n",
    "    \n",
    "report_result(p_3y,alpha)"
   ]
  },
  {
   "cell_type": "markdown",
   "metadata": {},
   "source": [
    "#$\\chi^2$ Test:"
   ]
  },
  {
   "cell_type": "markdown",
   "metadata": {},
   "source": [
    "the expected ratio is the product of the total of all rows and all columns, devided by the total.\n",
    "expected = $\\frac{row tot * col tot}{total}$"
   ]
  },
  {
   "cell_type": "markdown",
   "metadata": {},
   "source": [
    "|employed in subsidized job |     employed   | not employes   |                   \n",
    "|---------------------------|----------------|------------------|---------------------------|\n",
    "| test sample               |  $14.7 * 0.01 * 564 = 82.9$ |   $85.3 * 0.01 * 564 = 481.1$  | 564                       |\n",
    "| control sample            |  $11.9 * 0.01 * 409 = 48.7$ |   $88.1 * 0.01 * 409 = 360.3$   | 409                       |\n",
    "|                           |                |                  |                           |\n",
    "| total                     |    131.6    |     841.4     | 973         |"
   ]
  },
  {
   "cell_type": "code",
   "execution_count": 47,
   "metadata": {
    "collapsed": false
   },
   "outputs": [
    {
     "name": "stdout",
     "output_type": "stream",
     "text": [
      "1.58917936772\n"
     ]
    }
   ],
   "source": [
    "Ntot = 973\n",
    "expected = 564*409*131.6*841.4\n",
    "sample_values = [[14.7*0.01*564,85.3*0.01*564],[11.9*0.01*409,88.1*0.01*409]]\n",
    "\n",
    "chisqstat= lambda N, values, expect : N*((values[0][0]*values[1][1]-values[0][1]*values[1][0])**2)/(expect)\n",
    "\n",
    "chisq = chisqstat(Ntot,  sample_values, expected)\n",
    "\n",
    "print chisq"
   ]
  },
  {
   "cell_type": "markdown",
   "metadata": {},
   "source": [
    "###There is one degree of freedom in this data, and the p is 0.05, so the critical value of 3.84."
   ]
  },
  {
   "cell_type": "code",
   "execution_count": 48,
   "metadata": {
    "collapsed": false
   },
   "outputs": [
    {
     "name": "stdout",
     "output_type": "stream",
     "text": [
      "is the chisq value 1.59 greater than the critical value 3.84? \n",
      "NO!\n",
      "the Null hypothesis is not rejected\n"
     ]
    }
   ],
   "source": [
    "critical = 3.84\n",
    "\n",
    "def report_result_chi(chi,crit):\n",
    "    print 'is the chisq value {0:.2f} greater than the critical value {1:.2f}? '.format(chi,crit)\n",
    "    if chi>crit:\n",
    "        print \"YES!\"\n",
    "    else: print \"NO!\"\n",
    "    \n",
    "    print 'the Null hypothesis is {}'.format( 'rejected' if chi>crit  else 'not rejected') \n",
    "    \n",
    "report_result_chi(chisq,critical)"
   ]
  },
  {
   "cell_type": "markdown",
   "metadata": {
    "collapsed": true
   },
   "source": [
    "###The chi square statistic is less then the critical value, so the null hypothesis cannot be rejected."
   ]
  }
 ],
 "metadata": {
  "kernelspec": {
   "display_name": "Python 2",
   "language": "python",
   "name": "python2"
  },
  "language_info": {
   "codemirror_mode": {
    "name": "ipython",
    "version": 2
   },
   "file_extension": ".py",
   "mimetype": "text/x-python",
   "name": "python",
   "nbconvert_exporter": "python",
   "pygments_lexer": "ipython2",
   "version": "2.7.10"
  }
 },
 "nbformat": 4,
 "nbformat_minor": 0
}
