{
 "cells": [
  {
   "cell_type": "markdown",
   "metadata": {},
   "source": [
    "Questions for TA: \n",
    "\n",
    "Why isn't total column being recognized?\n",
    "\n",
    "How do you plot OLS results?"
   ]
  },
  {
   "cell_type": "code",
   "execution_count": 190,
   "metadata": {
    "collapsed": false
   },
   "outputs": [
    {
     "name": "stdout",
     "output_type": "stream",
     "text": [
      "Populating the interactive namespace from numpy and matplotlib\n"
     ]
    }
   ],
   "source": [
    "import geopandas as gp\n",
    "import pandas as pd\n",
    "import os\n",
    "import json\n",
    "import pylab as pl\n",
    "import csv\n",
    "import urllib2\n",
    "import numpy as np\n",
    "# import zipfile as zp\n",
    "import statsmodels.api as sm\n",
    "%pylab inline"
   ]
  },
  {
   "cell_type": "markdown",
   "metadata": {},
   "source": [
    "### Importing Energy_and_Water_Data_Disclosure_for_Local_Law_84 Data"
   ]
  },
  {
   "cell_type": "code",
   "execution_count": 191,
   "metadata": {
    "collapsed": false
   },
   "outputs": [
    {
     "name": "stdout",
     "output_type": "stream",
     "text": [
      "Index([u'NYC Borough, Block, and Lot (BBL)', u'Co-reported BBL Status',\n",
      "       u'BBLs Co-reported',\n",
      "       u'Reported NYC Building Identificaiton Numbers (BINs)',\n",
      "       u'Street Number', u'Street Name', u'Borough', u'Zip Code',\n",
      "       u'DOF Benchmarking Submission Status', u'Site EUI(kBtu/ft2)',\n",
      "       u'Weather Normalized Site EUI(kBtu/ft2)', u'Source EUI(kBtu/ft2)',\n",
      "       u'Weather Normalized Source EUI(kBtu/ft2)',\n",
      "       u'Municipally Supplied Potable Water - Indoor Intensity (gal/ft²)',\n",
      "       u'Automatic Water Benchmarking Eligible', u'Reported Water Method',\n",
      "       u'ENERGY STAR Score', u'Total GHG Emissions(MtCO2e)',\n",
      "       u'Direct GHG Emissions(MtCO2e)', u'Indirect GHG Emissions(MtCO2e)',\n",
      "       u'Reported Property Floor Area (Building(s)) (ft²)',\n",
      "       u'DOF Property Floor Area (Buildngs and Parking)(ft2)',\n",
      "       u'Primary Property Type - Self Selected', u'DOF Number of Buildings',\n",
      "       u'BBL', u'EUI'],\n",
      "      dtype='object')\n"
     ]
    }
   ],
   "source": [
    "url = 'https://data.cityofnewyork.us/api/views/rgfe-8y2z/rows.csv?accessType=DOWNLOAD'\n",
    "response = urllib2.urlopen(url)\n",
    "energy = gp.GeoDataFrame.from_csv(response)\n",
    "\n",
    "# creating simpler variable name for later\n",
    "energy['BBL'] = energy['NYC Borough, Block, and Lot (BBL)']\n",
    "energy['EUI'] = energy['Site EUI(kBtu/ft2)']\n",
    "\n",
    "print energy.columns"
   ]
  },
  {
   "cell_type": "markdown",
   "metadata": {},
   "source": [
    "### Importing PLUTO Data"
   ]
  },
  {
   "cell_type": "code",
   "execution_count": 192,
   "metadata": {
    "collapsed": false
   },
   "outputs": [],
   "source": [
    "# url2 = 'http://cosmo.nyu.edu/~fb55/UI_CUSP_2015/data/mn_mappluto_15v1.zip'\n",
    "# response2 = urllib2.urlopen(url2)\n",
    "# #  = zp.ZipFile.open(name[, mode[, pwd]])\n",
    "\n",
    "# zipped = zp.ZipFile(response2, 'r')\n",
    "# pluto = zipped.open('Manhattan/MNMapPLUTO.shp')"
   ]
  },
  {
   "cell_type": "code",
   "execution_count": 193,
   "metadata": {
    "collapsed": false
   },
   "outputs": [
    {
     "name": "stdout",
     "output_type": "stream",
     "text": [
      "Index([    u'APPBBL',    u'APPDate',    u'Address', u'AllZoning1',\n",
      "       u'AllZoning2', u'AreaSource', u'AssessLand',  u'AssessTot',\n",
      "              u'BBL',   u'BldgArea',  u'BldgClass',  u'BldgDepth',\n",
      "        u'BldgFront',      u'Block',   u'BoroCode',    u'Borough',\n",
      "         u'BsmtCode',  u'BuiltCode',   u'BuiltFAR',     u'CB2010',\n",
      "               u'CD',     u'CT2010',    u'ComArea',    u'CommFAR',\n",
      "          u'CondoNo',    u'Council',  u'EDesigNum',  u'Easements',\n",
      "       u'ExemptLand',  u'ExemptTot',        u'Ext',   u'FacilFAR',\n",
      "       u'FactryArea',   u'FireComp', u'GarageArea', u'HealthArea',\n",
      "         u'HistDist', u'IrrLotCode',    u'LandUse',   u'Landmark',\n",
      "              u'Lot',    u'LotArea',   u'LotDepth',   u'LotFront',\n",
      "          u'LotType',  u'LtdHeight', u'MAPPLUTO_F',   u'NumBldgs',\n",
      "        u'NumFloors', u'OfficeArea',  u'OtherArea',   u'Overlay1',\n",
      "         u'Overlay2',  u'OwnerName',  u'OwnerType', u'PLUTOMapID',\n",
      "       u'PolicePrct',   u'ProxCode',    u'ResArea',   u'ResidFAR',\n",
      "       u'RetailArea', u'SHAPE_Area', u'SHAPE_Leng',    u'SPDist1',\n",
      "          u'SPDist2',    u'Sanborn', u'SchoolDist',  u'SplitZone',\n",
      "        u'StrgeArea',     u'TaxMap',  u'Tract2010',   u'UnitsRes',\n",
      "       u'UnitsTotal',    u'Version',     u'XCoord',     u'YCoord',\n",
      "       u'YearAlter1', u'YearAlter2',  u'YearBuilt',     u'ZMCode',\n",
      "          u'ZipCode',  u'ZoneDist1',  u'ZoneDist2',  u'ZoneDist3',\n",
      "        u'ZoneDist4',    u'ZoneMap',   u'geometry'],\n",
      "      dtype='object')\n"
     ]
    }
   ],
   "source": [
    "pluto = gp.GeoDataFrame.from_file(os.getenv('PUI2015')+'/HW5/Manhattan/MNMapPLUTO.shp')\n",
    "print pluto.columns"
   ]
  },
  {
   "cell_type": "code",
   "execution_count": 194,
   "metadata": {
    "collapsed": false
   },
   "outputs": [],
   "source": [
    "# from pandas.tools.plotting import scatter_matrix\n",
    "# scatter_matrix (energy, s=300, figsize=(12, 12), diagonal='kde')"
   ]
  },
  {
   "cell_type": "markdown",
   "metadata": {},
   "source": [
    "### Data Cleanup"
   ]
  },
  {
   "cell_type": "code",
   "execution_count": 195,
   "metadata": {
    "collapsed": true
   },
   "outputs": [],
   "source": [
    "def canconvert(mydata):\n",
    "    try :\n",
    "        float(mydata)\n",
    "        return True\n",
    "    except ValueError:\n",
    "        return False\n",
    "    \n",
    "fun = np.vectorize(canconvert)"
   ]
  },
  {
   "cell_type": "code",
   "execution_count": 196,
   "metadata": {
    "collapsed": false
   },
   "outputs": [
    {
     "name": "stderr",
     "output_type": "stream",
     "text": [
      "/anaconda/lib/python2.7/site-packages/IPython/kernel/__main__.py:2: SettingWithCopyWarning: \n",
      "A value is trying to be set on a copy of a slice from a DataFrame\n",
      "\n",
      "See the the caveats in the documentation: http://pandas.pydata.org/pandas-docs/stable/indexing.html#indexing-view-versus-copy\n",
      "  from IPython.kernel.zmq import kernelapp as app\n",
      "/anaconda/lib/python2.7/site-packages/IPython/kernel/__main__.py:6: SettingWithCopyWarning: \n",
      "A value is trying to be set on a copy of a slice from a DataFrame\n",
      "\n",
      "See the the caveats in the documentation: http://pandas.pydata.org/pandas-docs/stable/indexing.html#indexing-view-versus-copy\n",
      "/anaconda/lib/python2.7/site-packages/IPython/kernel/__main__.py:10: SettingWithCopyWarning: \n",
      "A value is trying to be set on a copy of a slice from a DataFrame\n",
      "\n",
      "See the the caveats in the documentation: http://pandas.pydata.org/pandas-docs/stable/indexing.html#indexing-view-versus-copy\n",
      "/anaconda/lib/python2.7/site-packages/IPython/kernel/__main__.py:14: SettingWithCopyWarning: \n",
      "A value is trying to be set on a copy of a slice from a DataFrame\n",
      "\n",
      "See the the caveats in the documentation: http://pandas.pydata.org/pandas-docs/stable/indexing.html#indexing-view-versus-copy\n",
      "/anaconda/lib/python2.7/site-packages/IPython/kernel/__main__.py:18: SettingWithCopyWarning: \n",
      "A value is trying to be set on a copy of a slice from a DataFrame\n",
      "\n",
      "See the the caveats in the documentation: http://pandas.pydata.org/pandas-docs/stable/indexing.html#indexing-view-versus-copy\n"
     ]
    }
   ],
   "source": [
    "index_units = fun(pluto['UnitsTotal'])\n",
    "pluto['UnitsTotal'][~index_units] = float('NaN')\n",
    "pluto['UnitsTotal'] = [float(x) for x in pluto['UnitsTotal']]\n",
    "\n",
    "index_pbbl = fun(pluto['BBL'])\n",
    "pluto['BBL'][~index_pbbl] = float('NaN')\n",
    "pluto['BBL'] = [str(x) for x in pluto['BBL']]\n",
    "\n",
    "index_area = fun(energy['Reported Property Floor Area (Building(s)) (ft²)'])\n",
    "energy['Reported Property Floor Area (Building(s)) (ft²)'][~index_area] = float('NaN')\n",
    "energy['Reported Property Floor Area (Building(s)) (ft²)'] = [float(x) for x in energy['Reported Property Floor Area (Building(s)) (ft²)']]\n",
    "\n",
    "index_use = fun(energy['EUI'])\n",
    "energy['EUI'][~index_use] = float('NaN')\n",
    "energy['EUI'] = [float(x) for x in energy['EUI']]\n",
    "\n",
    "index_ebbl = fun(energy['BBL'])\n",
    "energy['BBL'][~index_ebbl] = float('NaN')\n",
    "energy['BBL'] = [str(x) for x in energy['BBL']]"
   ]
  },
  {
   "cell_type": "code",
   "execution_count": 256,
   "metadata": {
    "collapsed": false
   },
   "outputs": [],
   "source": [
    "# print energy.EUI\n",
    "# print energy.BBL\n",
    "# print energy['Reported Property Floor Area (Building(s)) (ft²)']\n",
    "# print pluto.BBL\n",
    "# print pluto.UnitsTotal"
   ]
  },
  {
   "cell_type": "markdown",
   "metadata": {},
   "source": [
    "###Merging the two data sets using the BBL"
   ]
  },
  {
   "cell_type": "code",
   "execution_count": 264,
   "metadata": {
    "collapsed": false
   },
   "outputs": [
    {
     "data": {
      "text/plain": [
       "6545"
      ]
     },
     "execution_count": 264,
     "metadata": {},
     "output_type": "execute_result"
    }
   ],
   "source": [
    "joined = pd.merge(energy,pluto,on=['BBL'],how='inner')\n",
    "len(joined.BBL)"
   ]
  },
  {
   "cell_type": "code",
   "execution_count": 269,
   "metadata": {
    "collapsed": false
   },
   "outputs": [
    {
     "name": "stdout",
     "output_type": "stream",
     "text": [
      "0       1.932388e+07\n",
      "1       8.923786e+06\n",
      "2       6.484985e+06\n",
      "3       7.252000e+06\n",
      "4       2.657421e+07\n",
      "5       8.313213e+06\n",
      "6       2.606125e+10\n",
      "7       4.507029e+07\n",
      "8       8.861394e+05\n",
      "10      6.721880e+06\n",
      "11      1.571334e+07\n",
      "12      8.304709e+06\n",
      "13      7.611074e+07\n",
      "14      8.857581e+07\n",
      "15      7.286018e+06\n",
      "16      5.401410e+06\n",
      "17      6.619960e+06\n",
      "18      1.715440e+06\n",
      "19      4.870652e+06\n",
      "21      3.643200e+06\n",
      "22      4.235712e+07\n",
      "23      8.150267e+06\n",
      "24      4.539942e+06\n",
      "25      4.937273e+06\n",
      "26      4.323671e+07\n",
      "28      1.368137e+07\n",
      "30      2.488650e+07\n",
      "31      2.246201e+08\n",
      "32      1.799610e+08\n",
      "33      6.694794e+07\n",
      "            ...     \n",
      "5744    1.686385e+07\n",
      "5746    6.477900e+06\n",
      "5747    5.338200e+06\n",
      "5748    5.600700e+06\n",
      "5749    1.273500e+07\n",
      "5751    7.176300e+06\n",
      "5755    5.725514e+06\n",
      "5757    7.667564e+06\n",
      "5760    1.050000e+05\n",
      "5764    1.141300e+07\n",
      "5765    1.478448e+05\n",
      "5766    2.693200e+05\n",
      "5767    5.208080e+06\n",
      "5768    1.356800e+05\n",
      "5769    4.977000e+06\n",
      "5771    4.300339e+07\n",
      "5772    4.296553e+09\n",
      "5773    8.754200e+06\n",
      "5774    3.056382e+06\n",
      "5775    4.852694e+06\n",
      "5776    2.338740e+06\n",
      "5777    2.730701e+06\n",
      "5778    5.677862e+06\n",
      "5779    1.917338e+06\n",
      "5780    2.043712e+08\n",
      "5782    2.647775e+07\n",
      "5783    3.388460e+07\n",
      "5784    2.741090e+07\n",
      "5785    4.265368e+06\n",
      "5796    2.208730e+08\n",
      "dtype: float64\n"
     ]
    }
   ],
   "source": [
    "# adding new column with total consumption/building\n",
    "joined.total = []\n",
    "joined.total = joined.EUI*joined['Reported Property Floor Area (Building(s)) (ft²)']\n",
    "\n",
    "print joined.total"
   ]
  },
  {
   "cell_type": "markdown",
   "metadata": {},
   "source": [
    "### Additional cleanup - removing outliers"
   ]
  },
  {
   "cell_type": "code",
   "execution_count": 266,
   "metadata": {
    "collapsed": false
   },
   "outputs": [
    {
     "data": {
      "text/plain": [
       "5083"
      ]
     },
     "execution_count": 266,
     "metadata": {},
     "output_type": "execute_result"
    }
   ],
   "source": [
    "joined = joined[joined.total>0]\n",
    "len(joined.BBL)"
   ]
  },
  {
   "cell_type": "code",
   "execution_count": 270,
   "metadata": {
    "collapsed": false
   },
   "outputs": [
    {
     "data": {
      "text/plain": [
       "[<matplotlib.lines.Line2D at 0x111874450>]"
      ]
     },
     "execution_count": 270,
     "metadata": {},
     "output_type": "execute_result"
    },
    {
     "data": {
      "image/png": "[encoded data removed]",
      "text/plain": [
       "<matplotlib.figure.Figure at 0x12cd00e50>"
      ]
     },
     "metadata": {},
     "output_type": "display_data"
    }
   ],
   "source": [
    "plot(joined.UnitsTotal, joined.total)"
   ]
  },
  {
   "cell_type": "markdown",
   "metadata": {},
   "source": [
    "###Finding linear regression model"
   ]
  },
  {
   "cell_type": "code",
   "execution_count": 273,
   "metadata": {
    "collapsed": false
   },
   "outputs": [
    {
     "name": "stdout",
     "output_type": "stream",
     "text": [
      "      const  UnitsTotal\n",
      "0         1    1.380211\n",
      "1         1    1.792392\n",
      "2         1    1.929419\n",
      "3         1    2.107210\n",
      "4         1    1.000000\n",
      "5         1    1.785330\n",
      "6         1    2.686636\n",
      "7         1    2.656098\n",
      "8         1    1.000000\n",
      "10        1    1.832509\n",
      "11        1    1.949390\n",
      "12        1    0.954243\n",
      "13        1    1.579784\n",
      "14        1    0.698970\n",
      "15        1    1.857332\n",
      "16        1    1.748188\n",
      "17        1    1.792392\n",
      "18        1    1.977724\n",
      "19        1    1.785330\n",
      "21        1    1.785330\n",
      "22        1    2.720986\n",
      "23        1    1.724276\n",
      "24        1    1.633468\n",
      "25        1    1.819544\n",
      "26        1    2.290035\n",
      "28        1    1.623249\n",
      "30        1    2.404834\n",
      "31        1    1.716003\n",
      "32        1    0.845098\n",
      "33        1    0.954243\n",
      "...     ...         ...\n",
      "5744      1    1.875061\n",
      "5746      1    0.000000\n",
      "5747      1    0.000000\n",
      "5748      1    0.000000\n",
      "5749      1        -inf\n",
      "5751      1    1.000000\n",
      "5755      1    0.903090\n",
      "5757      1    2.096910\n",
      "5760      1    1.579784\n",
      "5764      1    0.000000\n",
      "5765      1    1.681241\n",
      "5766      1    1.732394\n",
      "5767      1    1.623249\n",
      "5768      1    1.623249\n",
      "5769      1    1.113943\n",
      "5771      1    1.176091\n",
      "5772      1    0.301030\n",
      "5773      1    0.301030\n",
      "5774      1    0.000000\n",
      "5775      1    0.301030\n",
      "5776      1    0.000000\n",
      "5777      1    0.000000\n",
      "5778      1    0.000000\n",
      "5779      1    0.301030\n",
      "5780      1    1.755875\n",
      "5782      1    1.591065\n",
      "5783      1        -inf\n",
      "5784      1    1.041393\n",
      "5785      1    0.301030\n",
      "5796      1    0.000000\n",
      "\n",
      "[5083 rows x 2 columns]\n",
      "                            OLS Regression Results                            \n",
      "==============================================================================\n",
      "Dep. Variable:                      y   R-squared:                         nan\n",
      "Model:                            OLS   Adj. R-squared:                    nan\n",
      "Method:                 Least Squares   F-statistic:                       nan\n",
      "Date:                Wed, 14 Oct 2015   Prob (F-statistic):                nan\n",
      "Time:                        13:20:22   Log-Likelihood:                    nan\n",
      "No. Observations:                5083   AIC:                               nan\n",
      "Df Residuals:                    5083   BIC:                               nan\n",
      "Df Model:                          -1                                         \n",
      "Covariance Type:            nonrobust                                         \n",
      "==============================================================================\n",
      "                 coef    std err          t      P>|t|      [95.0% Conf. Int.]\n",
      "------------------------------------------------------------------------------\n",
      "const             nan        nan        nan        nan           nan       nan\n",
      "UnitsTotal        nan        nan        nan        nan           nan       nan\n",
      "==============================================================================\n",
      "Omnibus:                          nan   Durbin-Watson:                     nan\n",
      "Prob(Omnibus):                    nan   Jarque-Bera (JB):                  nan\n",
      "Skew:                             nan   Prob(JB):                          nan\n",
      "Kurtosis:                         nan   Cond. No.                          nan\n",
      "==============================================================================\n",
      "\n",
      "Warnings:\n",
      "[1] Standard Errors assume that the covariance matrix of the errors is correctly specified.\n"
     ]
    }
   ],
   "source": [
    "X = sm.add_constant(np.log10(joined.UnitsTotal))\n",
    "print X\n",
    "mmod = sm.OLS(np.log10(joined.total), X, missing='drop').fit() # ignores entires where x or y is NaN\n",
    "print mmod.summary()\n",
    "\n",
    "# fit = mmod.fit()\n",
    "# return fit.params[1], fit.params[0], fit # could also return stderr in each via fit.bse"
   ]
  },
  {
   "cell_type": "code",
   "execution_count": 262,
   "metadata": {
    "collapsed": true
   },
   "outputs": [],
   "source": [
    "# fit and plots here"
   ]
  },
  {
   "cell_type": "code",
   "execution_count": 129,
   "metadata": {
    "collapsed": true
   },
   "outputs": [],
   "source": [
    "# try making a fit for energy vs units AND a fit for units vs energy. tell me which is better.\n",
    "# look at the fit summary: which is better? could you do a likelihood ratio test here? why or why not??"
   ]
  },
  {
   "cell_type": "code",
   "execution_count": 263,
   "metadata": {
    "collapsed": false
   },
   "outputs": [
    {
     "ename": "AttributeError",
     "evalue": "'DataFrame' object has no attribute 'total'",
     "output_type": "error",
     "traceback": [
      "\u001b[0;31m---------------------------------------------------------------------------\u001b[0m",
      "\u001b[0;31mAttributeError\u001b[0m                            Traceback (most recent call last)",
      "\u001b[0;32m<ipython-input-263-9d779eda4087>\u001b[0m in \u001b[0;36m<module>\u001b[0;34m()\u001b[0m\n\u001b[1;32m      1\u001b[0m \u001b[0;31m# now fit a second degree curve to it: ax^2+bx+c.\u001b[0m\u001b[0;34m\u001b[0m\u001b[0;34m\u001b[0m\u001b[0m\n\u001b[0;32m----> 2\u001b[0;31m \u001b[0mnp\u001b[0m\u001b[0;34m.\u001b[0m\u001b[0mpolyfit\u001b[0m\u001b[0;34m(\u001b[0m\u001b[0mjoined\u001b[0m\u001b[0;34m.\u001b[0m\u001b[0mUnitsTotal\u001b[0m\u001b[0;34m,\u001b[0m \u001b[0mjoined\u001b[0m\u001b[0;34m.\u001b[0m\u001b[0mtotal\u001b[0m\u001b[0;34m,\u001b[0m \u001b[0;36m2\u001b[0m\u001b[0;34m)\u001b[0m\u001b[0;34m\u001b[0m\u001b[0m\n\u001b[0m\u001b[1;32m      3\u001b[0m \u001b[0;31m# or statmodels.formula.api passing a formula like\u001b[0m\u001b[0;34m\u001b[0m\u001b[0;34m\u001b[0m\u001b[0m\n\u001b[1;32m      4\u001b[0m \u001b[0;31m# formula = 'y ~ 1 + x + I(x ^ 2.0)'\u001b[0m\u001b[0;34m\u001b[0m\u001b[0;34m\u001b[0m\u001b[0m\n",
      "\u001b[0;32m//anaconda/lib/python2.7/site-packages/pandas/core/generic.pyc\u001b[0m in \u001b[0;36m__getattr__\u001b[0;34m(self, name)\u001b[0m\n\u001b[1;32m   2148\u001b[0m                 \u001b[0;32mreturn\u001b[0m \u001b[0mself\u001b[0m\u001b[0;34m[\u001b[0m\u001b[0mname\u001b[0m\u001b[0;34m]\u001b[0m\u001b[0;34m\u001b[0m\u001b[0m\n\u001b[1;32m   2149\u001b[0m             raise AttributeError(\"'%s' object has no attribute '%s'\" %\n\u001b[0;32m-> 2150\u001b[0;31m                                  (type(self).__name__, name))\n\u001b[0m\u001b[1;32m   2151\u001b[0m \u001b[0;34m\u001b[0m\u001b[0m\n\u001b[1;32m   2152\u001b[0m     \u001b[0;32mdef\u001b[0m \u001b[0m__setattr__\u001b[0m\u001b[0;34m(\u001b[0m\u001b[0mself\u001b[0m\u001b[0;34m,\u001b[0m \u001b[0mname\u001b[0m\u001b[0;34m,\u001b[0m \u001b[0mvalue\u001b[0m\u001b[0;34m)\u001b[0m\u001b[0;34m:\u001b[0m\u001b[0;34m\u001b[0m\u001b[0m\n",
      "\u001b[0;31mAttributeError\u001b[0m: 'DataFrame' object has no attribute 'total'"
     ]
    }
   ],
   "source": [
    "# now fit a second degree curve to it: ax^2+bx+c.\n",
    "np.polyfit(joined.UnitsTotal, joined.total, 2)\n",
    "# or statmodels.formula.api passing a formula like\n",
    "# formula = 'y ~ 1 + x + I(x ^ 2.0)'   "
   ]
  },
  {
   "cell_type": "code",
   "execution_count": 131,
   "metadata": {
    "collapsed": true
   },
   "outputs": [],
   "source": [
    "# look at the fit summary: which is better? could you do a likelihood ratio test here? why or why not??"
   ]
  },
  {
   "cell_type": "code",
   "execution_count": null,
   "metadata": {
    "collapsed": true
   },
   "outputs": [],
   "source": []
  }
 ],
 "metadata": {
  "kernelspec": {
   "display_name": "Python 2",
   "language": "python",
   "name": "python2"
  },
  "language_info": {
   "codemirror_mode": {
    "name": "ipython",
    "version": 2
   },
   "file_extension": ".py",
   "mimetype": "text/x-python",
   "name": "python",
   "nbconvert_exporter": "python",
   "pygments_lexer": "ipython2",
   "version": "2.7.10"
  }
 },
 "nbformat": 4,
 "nbformat_minor": 0
}
