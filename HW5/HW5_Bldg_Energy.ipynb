{
 "cells": [
  {
   "cell_type": "markdown",
   "metadata": {},
   "source": [
    "Questions for TA: \n",
    "\n",
    "Is shp file path setup correctly?"
   ]
  },
  {
   "cell_type": "code",
   "execution_count": 190,
   "metadata": {
    "collapsed": false
   },
   "outputs": [
    {
     "name": "stdout",
     "output_type": "stream",
     "text": [
      "Populating the interactive namespace from numpy and matplotlib\n"
     ]
    }
   ],
   "source": [
    "import geopandas as gp\n",
    "import pandas as pd\n",
    "import os\n",
    "import json\n",
    "import pylab as pl\n",
    "import csv\n",
    "import urllib2\n",
    "import numpy as np\n",
    "# import zipfile as zp\n",
    "import statsmodels.api as sm\n",
    "%pylab inline"
   ]
  },
  {
   "cell_type": "markdown",
   "metadata": {},
   "source": [
    "### Importing Energy_and_Water_Data_Disclosure_for_Local_Law_84 Data"
   ]
  },
  {
   "cell_type": "code",
   "execution_count": 191,
   "metadata": {
    "collapsed": false
   },
   "outputs": [
    {
     "name": "stdout",
     "output_type": "stream",
     "text": [
      "Index([u'NYC Borough, Block, and Lot (BBL)', u'Co-reported BBL Status',\n",
      "       u'BBLs Co-reported',\n",
      "       u'Reported NYC Building Identificaiton Numbers (BINs)',\n",
      "       u'Street Number', u'Street Name', u'Borough', u'Zip Code',\n",
      "       u'DOF Benchmarking Submission Status', u'Site EUI(kBtu/ft2)',\n",
      "       u'Weather Normalized Site EUI(kBtu/ft2)', u'Source EUI(kBtu/ft2)',\n",
      "       u'Weather Normalized Source EUI(kBtu/ft2)',\n",
      "       u'Municipally Supplied Potable Water - Indoor Intensity (gal/ft²)',\n",
      "       u'Automatic Water Benchmarking Eligible', u'Reported Water Method',\n",
      "       u'ENERGY STAR Score', u'Total GHG Emissions(MtCO2e)',\n",
      "       u'Direct GHG Emissions(MtCO2e)', u'Indirect GHG Emissions(MtCO2e)',\n",
      "       u'Reported Property Floor Area (Building(s)) (ft²)',\n",
      "       u'DOF Property Floor Area (Buildngs and Parking)(ft2)',\n",
      "       u'Primary Property Type - Self Selected', u'DOF Number of Buildings',\n",
      "       u'BBL', u'EUI'],\n",
      "      dtype='object')\n"
     ]
    }
   ],
   "source": [
    "url = 'https://data.cityofnewyork.us/api/views/rgfe-8y2z/rows.csv?accessType=DOWNLOAD'\n",
    "response = urllib2.urlopen(url)\n",
    "energy = gp.GeoDataFrame.from_csv(response)\n",
    "\n",
    "# creating simpler variable name for later\n",
    "energy['BBL'] = energy['NYC Borough, Block, and Lot (BBL)']\n",
    "energy['EUI'] = energy['Site EUI(kBtu/ft2)']\n",
    "\n",
    "print energy.columns"
   ]
  },
  {
   "cell_type": "markdown",
   "metadata": {},
   "source": [
    "### Importing PLUTO Data"
   ]
  },
  {
   "cell_type": "code",
   "execution_count": 192,
   "metadata": {
    "collapsed": false
   },
   "outputs": [],
   "source": [
    "# url2 = 'http://cosmo.nyu.edu/~fb55/UI_CUSP_2015/data/mn_mappluto_15v1.zip'\n",
    "# response2 = urllib2.urlopen(url2)\n",
    "# #  = zp.ZipFile.open(name[, mode[, pwd]])\n",
    "\n",
    "# zipped = zp.ZipFile(response2, 'r')\n",
    "# pluto = zipped.open('Manhattan/MNMapPLUTO.shp')"
   ]
  },
  {
   "cell_type": "code",
   "execution_count": 193,
   "metadata": {
    "collapsed": false
   },
   "outputs": [
    {
     "name": "stdout",
     "output_type": "stream",
     "text": [
      "Index([    u'APPBBL',    u'APPDate',    u'Address', u'AllZoning1',\n",
      "       u'AllZoning2', u'AreaSource', u'AssessLand',  u'AssessTot',\n",
      "              u'BBL',   u'BldgArea',  u'BldgClass',  u'BldgDepth',\n",
      "        u'BldgFront',      u'Block',   u'BoroCode',    u'Borough',\n",
      "         u'BsmtCode',  u'BuiltCode',   u'BuiltFAR',     u'CB2010',\n",
      "               u'CD',     u'CT2010',    u'ComArea',    u'CommFAR',\n",
      "          u'CondoNo',    u'Council',  u'EDesigNum',  u'Easements',\n",
      "       u'ExemptLand',  u'ExemptTot',        u'Ext',   u'FacilFAR',\n",
      "       u'FactryArea',   u'FireComp', u'GarageArea', u'HealthArea',\n",
      "         u'HistDist', u'IrrLotCode',    u'LandUse',   u'Landmark',\n",
      "              u'Lot',    u'LotArea',   u'LotDepth',   u'LotFront',\n",
      "          u'LotType',  u'LtdHeight', u'MAPPLUTO_F',   u'NumBldgs',\n",
      "        u'NumFloors', u'OfficeArea',  u'OtherArea',   u'Overlay1',\n",
      "         u'Overlay2',  u'OwnerName',  u'OwnerType', u'PLUTOMapID',\n",
      "       u'PolicePrct',   u'ProxCode',    u'ResArea',   u'ResidFAR',\n",
      "       u'RetailArea', u'SHAPE_Area', u'SHAPE_Leng',    u'SPDist1',\n",
      "          u'SPDist2',    u'Sanborn', u'SchoolDist',  u'SplitZone',\n",
      "        u'StrgeArea',     u'TaxMap',  u'Tract2010',   u'UnitsRes',\n",
      "       u'UnitsTotal',    u'Version',     u'XCoord',     u'YCoord',\n",
      "       u'YearAlter1', u'YearAlter2',  u'YearBuilt',     u'ZMCode',\n",
      "          u'ZipCode',  u'ZoneDist1',  u'ZoneDist2',  u'ZoneDist3',\n",
      "        u'ZoneDist4',    u'ZoneMap',   u'geometry'],\n",
      "      dtype='object')\n"
     ]
    }
   ],
   "source": [
    "pluto = gp.GeoDataFrame.from_file(os.getenv('PUI2015')+'/HW5/Manhattan/MNMapPLUTO.shp')\n",
    "print pluto.columns"
   ]
  },
  {
   "cell_type": "code",
   "execution_count": 194,
   "metadata": {
    "collapsed": false
   },
   "outputs": [],
   "source": [
    "# from pandas.tools.plotting import scatter_matrix\n",
    "# scatter_matrix (energy, s=300, figsize=(12, 12), diagonal='kde')"
   ]
  },
  {
   "cell_type": "markdown",
   "metadata": {},
   "source": [
    "### Data Cleanup"
   ]
  },
  {
   "cell_type": "code",
   "execution_count": 195,
   "metadata": {
    "collapsed": true
   },
   "outputs": [],
   "source": [
    "def canconvert(mydata):\n",
    "    try :\n",
    "        float(mydata)\n",
    "        return True\n",
    "    except ValueError:\n",
    "        return False\n",
    "    \n",
    "fun = np.vectorize(canconvert)"
   ]
  },
  {
   "cell_type": "code",
   "execution_count": 196,
   "metadata": {
    "collapsed": false
   },
   "outputs": [
    {
     "name": "stderr",
     "output_type": "stream",
     "text": [
      "/anaconda/lib/python2.7/site-packages/IPython/kernel/__main__.py:2: SettingWithCopyWarning: \n",
      "A value is trying to be set on a copy of a slice from a DataFrame\n",
      "\n",
      "See the the caveats in the documentation: http://pandas.pydata.org/pandas-docs/stable/indexing.html#indexing-view-versus-copy\n",
      "  from IPython.kernel.zmq import kernelapp as app\n",
      "/anaconda/lib/python2.7/site-packages/IPython/kernel/__main__.py:6: SettingWithCopyWarning: \n",
      "A value is trying to be set on a copy of a slice from a DataFrame\n",
      "\n",
      "See the the caveats in the documentation: http://pandas.pydata.org/pandas-docs/stable/indexing.html#indexing-view-versus-copy\n",
      "/anaconda/lib/python2.7/site-packages/IPython/kernel/__main__.py:10: SettingWithCopyWarning: \n",
      "A value is trying to be set on a copy of a slice from a DataFrame\n",
      "\n",
      "See the the caveats in the documentation: http://pandas.pydata.org/pandas-docs/stable/indexing.html#indexing-view-versus-copy\n",
      "/anaconda/lib/python2.7/site-packages/IPython/kernel/__main__.py:14: SettingWithCopyWarning: \n",
      "A value is trying to be set on a copy of a slice from a DataFrame\n",
      "\n",
      "See the the caveats in the documentation: http://pandas.pydata.org/pandas-docs/stable/indexing.html#indexing-view-versus-copy\n",
      "/anaconda/lib/python2.7/site-packages/IPython/kernel/__main__.py:18: SettingWithCopyWarning: \n",
      "A value is trying to be set on a copy of a slice from a DataFrame\n",
      "\n",
      "See the the caveats in the documentation: http://pandas.pydata.org/pandas-docs/stable/indexing.html#indexing-view-versus-copy\n"
     ]
    }
   ],
   "source": [
    "index_units = fun(pluto['UnitsTotal'])\n",
    "pluto['UnitsTotal'][~index_units] = float('NaN')\n",
    "pluto['UnitsTotal'] = [float(x) for x in pluto['UnitsTotal']]\n",
    "\n",
    "index_pbbl = fun(pluto['BBL'])\n",
    "pluto['BBL'][~index_pbbl] = float('NaN')\n",
    "pluto['BBL'] = [str(x) for x in pluto['BBL']]\n",
    "\n",
    "index_area = fun(energy['Reported Property Floor Area (Building(s)) (ft²)'])\n",
    "energy['Reported Property Floor Area (Building(s)) (ft²)'][~index_area] = float('NaN')\n",
    "energy['Reported Property Floor Area (Building(s)) (ft²)'] = [float(x) for x in energy['Reported Property Floor Area (Building(s)) (ft²)']]\n",
    "\n",
    "index_use = fun(energy['EUI'])\n",
    "energy['EUI'][~index_use] = float('NaN')\n",
    "energy['EUI'] = [float(x) for x in energy['EUI']]\n",
    "\n",
    "index_ebbl = fun(energy['BBL'])\n",
    "energy['BBL'][~index_ebbl] = float('NaN')\n",
    "energy['BBL'] = [str(x) for x in energy['BBL']]"
   ]
  },
  {
   "cell_type": "code",
   "execution_count": 197,
   "metadata": {
    "collapsed": false
   },
   "outputs": [],
   "source": [
    "# print energy.EUI\n",
    "# print energy.BBL\n",
    "# print energy['Reported Property Floor Area (Building(s)) (ft²)']\n",
    "# print pluto.BBL\n",
    "# print pluto.UnitsTotal"
   ]
  },
  {
   "cell_type": "markdown",
   "metadata": {},
   "source": [
    "###Merging the two data sets using the BBL"
   ]
  },
  {
   "cell_type": "code",
   "execution_count": 239,
   "metadata": {
    "collapsed": false
   },
   "outputs": [
    {
     "data": {
      "text/plain": [
       "6545"
      ]
     },
     "execution_count": 239,
     "metadata": {},
     "output_type": "execute_result"
    }
   ],
   "source": [
    "joined = pd.merge(energy,pluto,on=['BBL'],how='inner')\n",
    "len(joined.BBL)"
   ]
  },
  {
   "cell_type": "code",
   "execution_count": 240,
   "metadata": {
    "collapsed": false
   },
   "outputs": [],
   "source": [
    "# adding new column with total consumption/building\n",
    "joined.total = []\n",
    "joined.total = joined.EUI*joined['Reported Property Floor Area (Building(s)) (ft²)']\n",
    "\n",
    "# print joined.total"
   ]
  },
  {
   "cell_type": "markdown",
   "metadata": {},
   "source": [
    "### Additional cleanup - removing outliers"
   ]
  },
  {
   "cell_type": "code",
   "execution_count": 236,
   "metadata": {
    "collapsed": false
   },
   "outputs": [
    {
     "data": {
      "text/plain": [
       "5083"
      ]
     },
     "execution_count": 236,
     "metadata": {},
     "output_type": "execute_result"
    }
   ],
   "source": [
    "joined = joined[joined.total>0]\n",
    "len(joined.BBL)"
   ]
  },
  {
   "cell_type": "code",
   "execution_count": 241,
   "metadata": {
    "collapsed": false
   },
   "outputs": [],
   "source": [
    "# plot(joined.UnitsTotal, joined.total)"
   ]
  },
  {
   "cell_type": "markdown",
   "metadata": {},
   "source": [
    "###Finding linear regression model"
   ]
  },
  {
   "cell_type": "code",
   "execution_count": 243,
   "metadata": {
    "collapsed": false
   },
   "outputs": [],
   "source": [
    "X = sm.add_constant(np.log10(joined.total))\n",
    "# print X\n",
    "model = sm.OLS(np.log10(joined.total), X, missing='drop').fit() # ignores entires where x or y is NaN\n",
    "# fit = model.fit()\n",
    "# return fit.params[1], fit.params[0], fit # could also return stderr in each via fit.bse"
   ]
  },
  {
   "cell_type": "code",
   "execution_count": 130,
   "metadata": {
    "collapsed": true
   },
   "outputs": [],
   "source": [
    "# fit and plots here"
   ]
  },
  {
   "cell_type": "code",
   "execution_count": 129,
   "metadata": {
    "collapsed": true
   },
   "outputs": [],
   "source": [
    "# try making a fit for energy vs units AND a fit for units vs energy. tell me which is better.\n",
    "# look at the fit summary: which is better? could you do a likelihood ratio test here? why or why not??"
   ]
  },
  {
   "cell_type": "code",
   "execution_count": null,
   "metadata": {
    "collapsed": true
   },
   "outputs": [],
   "source": [
    "# now fit a second degree curve to it: ax^2+bx+c.\n",
    "# np.polyfit(x, y, 2)\n",
    "# or statmodels.formula.api passing a formula like\n",
    "# formula = 'y ~ 1 + x + I(x ^ 2.0)'   "
   ]
  },
  {
   "cell_type": "code",
   "execution_count": 131,
   "metadata": {
    "collapsed": true
   },
   "outputs": [],
   "source": [
    "# look at the fit summary: which is better? could you do a likelihood ratio test here? why or why not??"
   ]
  },
  {
   "cell_type": "code",
   "execution_count": null,
   "metadata": {
    "collapsed": true
   },
   "outputs": [],
   "source": []
  }
 ],
 "metadata": {
  "kernelspec": {
   "display_name": "Python 2",
   "language": "python",
   "name": "python2"
  },
  "language_info": {
   "codemirror_mode": {
    "name": "ipython",
    "version": 2
   },
   "file_extension": ".py",
   "mimetype": "text/x-python",
   "name": "python",
   "nbconvert_exporter": "python",
   "pygments_lexer": "ipython2",
   "version": "2.7.10"
  }
 },
 "nbformat": 4,
 "nbformat_minor": 0
}
