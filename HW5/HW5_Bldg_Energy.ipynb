{
 "cells": [
  {
   "cell_type": "code",
   "execution_count": 1,
   "metadata": {
    "collapsed": false
   },
   "outputs": [
    {
     "name": "stdout",
     "output_type": "stream",
     "text": [
      "Populating the interactive namespace from numpy and matplotlib\n"
     ]
    }
   ],
   "source": [
    "import geopandas as gp\n",
    "import pandas as pd\n",
    "import os\n",
    "import json\n",
    "import pylab as pl\n",
    "import csv\n",
    "import urllib2\n",
    "import numpy as np\n",
    "# import zipfile as zp\n",
    "import statsmodels.api as sm\n",
    "%pylab inline"
   ]
  },
  {
   "cell_type": "markdown",
   "metadata": {},
   "source": [
    "### Importing Energy_and_Water_Data_Disclosure_for_Local_Law_84 Data"
   ]
  },
  {
   "cell_type": "code",
   "execution_count": 2,
   "metadata": {
    "collapsed": false
   },
   "outputs": [
    {
     "name": "stdout",
     "output_type": "stream",
     "text": [
      "Index([u'NYC Borough, Block, and Lot (BBL)', u'Co-reported BBL Status',\n",
      "       u'BBLs Co-reported',\n",
      "       u'Reported NYC Building Identificaiton Numbers (BINs)',\n",
      "       u'Street Number', u'Street Name', u'Borough', u'Zip Code',\n",
      "       u'DOF Benchmarking Submission Status', u'Site EUI(kBtu/ft2)',\n",
      "       u'Weather Normalized Site EUI(kBtu/ft2)', u'Source EUI(kBtu/ft2)',\n",
      "       u'Weather Normalized Source EUI(kBtu/ft2)',\n",
      "       u'Municipally Supplied Potable Water - Indoor Intensity (gal/ft²)',\n",
      "       u'Automatic Water Benchmarking Eligible', u'Reported Water Method',\n",
      "       u'ENERGY STAR Score', u'Total GHG Emissions(MtCO2e)',\n",
      "       u'Direct GHG Emissions(MtCO2e)', u'Indirect GHG Emissions(MtCO2e)',\n",
      "       u'Reported Property Floor Area (Building(s)) (ft²)',\n",
      "       u'DOF Property Floor Area (Buildngs and Parking)(ft2)',\n",
      "       u'Primary Property Type - Self Selected', u'DOF Number of Buildings',\n",
      "       u'BBL', u'EUI'],\n",
      "      dtype='object')\n"
     ]
    }
   ],
   "source": [
    "url = 'https://data.cityofnewyork.us/api/views/rgfe-8y2z/rows.csv?accessType=DOWNLOAD'\n",
    "response = urllib2.urlopen(url)\n",
    "energy = gp.GeoDataFrame.from_csv(response)\n",
    "\n",
    "# creating simpler variable name for later\n",
    "energy['BBL'] = energy['NYC Borough, Block, and Lot (BBL)']\n",
    "energy['EUI'] = energy['Site EUI(kBtu/ft2)']\n",
    "\n",
    "print energy.columns"
   ]
  },
  {
   "cell_type": "markdown",
   "metadata": {},
   "source": [
    "### Importing PLUTO Data"
   ]
  },
  {
   "cell_type": "code",
   "execution_count": 3,
   "metadata": {
    "collapsed": false
   },
   "outputs": [],
   "source": [
    "# url2 = 'http://cosmo.nyu.edu/~fb55/UI_CUSP_2015/data/mn_mappluto_15v1.zip'\n",
    "# response2 = urllib2.urlopen(url2)\n",
    "# #  = zp.ZipFile.open(name[, mode[, pwd]])\n",
    "\n",
    "# zipped = zp.ZipFile(response2, 'r')\n",
    "# pluto = zipped.open('Manhattan/MNMapPLUTO.shp')"
   ]
  },
  {
   "cell_type": "code",
   "execution_count": 4,
   "metadata": {
    "collapsed": false
   },
   "outputs": [
    {
     "name": "stdout",
     "output_type": "stream",
     "text": [
      "Index([    u'APPBBL',    u'APPDate',    u'Address', u'AllZoning1',\n",
      "       u'AllZoning2', u'AreaSource', u'AssessLand',  u'AssessTot',\n",
      "              u'BBL',   u'BldgArea',  u'BldgClass',  u'BldgDepth',\n",
      "        u'BldgFront',      u'Block',   u'BoroCode',    u'Borough',\n",
      "         u'BsmtCode',  u'BuiltCode',   u'BuiltFAR',     u'CB2010',\n",
      "               u'CD',     u'CT2010',    u'ComArea',    u'CommFAR',\n",
      "          u'CondoNo',    u'Council',  u'EDesigNum',  u'Easements',\n",
      "       u'ExemptLand',  u'ExemptTot',        u'Ext',   u'FacilFAR',\n",
      "       u'FactryArea',   u'FireComp', u'GarageArea', u'HealthArea',\n",
      "         u'HistDist', u'IrrLotCode',    u'LandUse',   u'Landmark',\n",
      "              u'Lot',    u'LotArea',   u'LotDepth',   u'LotFront',\n",
      "          u'LotType',  u'LtdHeight', u'MAPPLUTO_F',   u'NumBldgs',\n",
      "        u'NumFloors', u'OfficeArea',  u'OtherArea',   u'Overlay1',\n",
      "         u'Overlay2',  u'OwnerName',  u'OwnerType', u'PLUTOMapID',\n",
      "       u'PolicePrct',   u'ProxCode',    u'ResArea',   u'ResidFAR',\n",
      "       u'RetailArea', u'SHAPE_Area', u'SHAPE_Leng',    u'SPDist1',\n",
      "          u'SPDist2',    u'Sanborn', u'SchoolDist',  u'SplitZone',\n",
      "        u'StrgeArea',     u'TaxMap',  u'Tract2010',   u'UnitsRes',\n",
      "       u'UnitsTotal',    u'Version',     u'XCoord',     u'YCoord',\n",
      "       u'YearAlter1', u'YearAlter2',  u'YearBuilt',     u'ZMCode',\n",
      "          u'ZipCode',  u'ZoneDist1',  u'ZoneDist2',  u'ZoneDist3',\n",
      "        u'ZoneDist4',    u'ZoneMap',   u'geometry'],\n",
      "      dtype='object')\n"
     ]
    }
   ],
   "source": [
    "pluto = gp.GeoDataFrame.from_file(os.getenv('PUI2015')+'/HW5/Manhattan/MNMapPLUTO.shp')\n",
    "print pluto.columns"
   ]
  },
  {
   "cell_type": "code",
   "execution_count": 5,
   "metadata": {
    "collapsed": false
   },
   "outputs": [],
   "source": [
    "# from pandas.tools.plotting import scatter_matrix\n",
    "# scatter_matrix (energy, s=300, figsize=(12, 12), diagonal='kde')"
   ]
  },
  {
   "cell_type": "markdown",
   "metadata": {},
   "source": [
    "### Data Cleanup"
   ]
  },
  {
   "cell_type": "code",
   "execution_count": 6,
   "metadata": {
    "collapsed": true
   },
   "outputs": [],
   "source": [
    "def canconvert(mydata):\n",
    "    try :\n",
    "        float(mydata)\n",
    "        return True\n",
    "    except ValueError:\n",
    "        return False\n",
    "    \n",
    "fun = np.vectorize(canconvert)"
   ]
  },
  {
   "cell_type": "code",
   "execution_count": 7,
   "metadata": {
    "collapsed": false
   },
   "outputs": [
    {
     "name": "stderr",
     "output_type": "stream",
     "text": [
      "/anaconda/lib/python2.7/site-packages/IPython/kernel/__main__.py:2: SettingWithCopyWarning: \n",
      "A value is trying to be set on a copy of a slice from a DataFrame\n",
      "\n",
      "See the the caveats in the documentation: http://pandas.pydata.org/pandas-docs/stable/indexing.html#indexing-view-versus-copy\n",
      "  from IPython.kernel.zmq import kernelapp as app\n",
      "/anaconda/lib/python2.7/site-packages/IPython/kernel/__main__.py:6: SettingWithCopyWarning: \n",
      "A value is trying to be set on a copy of a slice from a DataFrame\n",
      "\n",
      "See the the caveats in the documentation: http://pandas.pydata.org/pandas-docs/stable/indexing.html#indexing-view-versus-copy\n",
      "/anaconda/lib/python2.7/site-packages/IPython/kernel/__main__.py:10: SettingWithCopyWarning: \n",
      "A value is trying to be set on a copy of a slice from a DataFrame\n",
      "\n",
      "See the the caveats in the documentation: http://pandas.pydata.org/pandas-docs/stable/indexing.html#indexing-view-versus-copy\n",
      "/anaconda/lib/python2.7/site-packages/IPython/kernel/__main__.py:14: SettingWithCopyWarning: \n",
      "A value is trying to be set on a copy of a slice from a DataFrame\n",
      "\n",
      "See the the caveats in the documentation: http://pandas.pydata.org/pandas-docs/stable/indexing.html#indexing-view-versus-copy\n",
      "/anaconda/lib/python2.7/site-packages/IPython/kernel/__main__.py:18: SettingWithCopyWarning: \n",
      "A value is trying to be set on a copy of a slice from a DataFrame\n",
      "\n",
      "See the the caveats in the documentation: http://pandas.pydata.org/pandas-docs/stable/indexing.html#indexing-view-versus-copy\n"
     ]
    }
   ],
   "source": [
    "index_units = fun(pluto['UnitsTotal'])\n",
    "pluto['UnitsTotal'][~index_units] = float('NaN')\n",
    "pluto['UnitsTotal'] = [float(x) for x in pluto['UnitsTotal']]\n",
    "\n",
    "index_pbbl = fun(pluto['BBL'])\n",
    "pluto['BBL'][~index_pbbl] = float('NaN')\n",
    "pluto['BBL'] = [str(x) for x in pluto['BBL']]\n",
    "\n",
    "index_area = fun(energy['Reported Property Floor Area (Building(s)) (ft²)'])\n",
    "energy['Reported Property Floor Area (Building(s)) (ft²)'][~index_area] = float('NaN')\n",
    "energy['Reported Property Floor Area (Building(s)) (ft²)'] = [float(x) for x in energy['Reported Property Floor Area (Building(s)) (ft²)']]\n",
    "\n",
    "index_use = fun(energy['EUI'])\n",
    "energy['EUI'][~index_use] = float('NaN')\n",
    "energy['EUI'] = [float(x) for x in energy['EUI']]\n",
    "\n",
    "index_ebbl = fun(energy['BBL'])\n",
    "energy['BBL'][~index_ebbl] = float('NaN')\n",
    "energy['BBL'] = [str(x) for x in energy['BBL']]"
   ]
  },
  {
   "cell_type": "code",
   "execution_count": 8,
   "metadata": {
    "collapsed": false
   },
   "outputs": [],
   "source": [
    "# print energy.EUI\n",
    "# print energy.BBL\n",
    "# print energy['Reported Property Floor Area (Building(s)) (ft²)']\n",
    "# print pluto.BBL\n",
    "# print pluto.UnitsTotal"
   ]
  },
  {
   "cell_type": "markdown",
   "metadata": {},
   "source": [
    "###Merging the two data sets using the BBL"
   ]
  },
  {
   "cell_type": "code",
   "execution_count": 9,
   "metadata": {
    "collapsed": false
   },
   "outputs": [
    {
     "name": "stderr",
     "output_type": "stream",
     "text": [
      "//anaconda/lib/python2.7/site-packages/pandas/core/index.py:1695: UnicodeWarning: Unicode equal comparison failed to convert both arguments to Unicode - interpreting them as being unequal\n",
      "  indexer = self._engine.get_indexer(target.values)\n",
      "//anaconda/lib/python2.7/site-packages/pandas/core/index.py:1049: UnicodeWarning: Unicode equal comparison failed to convert both arguments to Unicode - interpreting them as being unequal\n",
      "  return key in self._engine\n"
     ]
    },
    {
     "data": {
      "text/plain": [
       "6545"
      ]
     },
     "execution_count": 9,
     "metadata": {},
     "output_type": "execute_result"
    }
   ],
   "source": [
    "joined = pd.merge(energy,pluto,on=['BBL'],how='inner')\n",
    "len(joined.BBL)"
   ]
  },
  {
   "cell_type": "code",
   "execution_count": 10,
   "metadata": {
    "collapsed": false
   },
   "outputs": [
    {
     "name": "stderr",
     "output_type": "stream",
     "text": [
      "//anaconda/lib/python2.7/site-packages/pandas/core/index.py:1572: UnicodeWarning: Unicode equal comparison failed to convert both arguments to Unicode - interpreting them as being unequal\n",
      "  return self._engine.get_loc(_values_from_object(key))\n"
     ]
    }
   ],
   "source": [
    "# creating array with total consumption/building\n",
    "total = []\n",
    "total = joined.EUI.values*joined['Reported Property Floor Area (Building(s)) (ft²)'].values\n",
    "\n",
    "# creating array with units/building\n",
    "units = []\n",
    "units = joined.UnitsTotal.values"
   ]
  },
  {
   "cell_type": "markdown",
   "metadata": {},
   "source": [
    "### Additional cleanup - removing outliers"
   ]
  },
  {
   "cell_type": "code",
   "execution_count": 11,
   "metadata": {
    "collapsed": false
   },
   "outputs": [
    {
     "name": "stdout",
     "output_type": "stream",
     "text": [
      "[ True  True  True ..., False False False]\n"
     ]
    }
   ],
   "source": [
    "index_clean = (units>0)&(units<4000)&(total>1000)&(total<1e11)\n",
    "\n",
    "print index_clean"
   ]
  },
  {
   "cell_type": "code",
   "execution_count": 12,
   "metadata": {
    "collapsed": false
   },
   "outputs": [
    {
     "data": {
      "text/plain": [
       "<matplotlib.text.Text at 0x1150fce90>"
      ]
     },
     "execution_count": 12,
     "metadata": {},
     "output_type": "execute_result"
    },
    {
     "data": {
      "image/png": "[encoded data removed]",
      "text/plain": [
       "<matplotlib.figure.Figure at 0x113f41d90>"
      ]
     },
     "metadata": {},
     "output_type": "display_data"
    }
   ],
   "source": [
    "pl.plot(units[index_clean], total[index_clean], '.')\n",
    "pl.xlabel('Number of Units/Bldg')\n",
    "pl.ylabel('Total Energy Use/Bldg')"
   ]
  },
  {
   "cell_type": "markdown",
   "metadata": {},
   "source": [
    "###Finding linear regression model"
   ]
  },
  {
   "cell_type": "markdown",
   "metadata": {},
   "source": [
    "####Statsmodel OLS"
   ]
  },
  {
   "cell_type": "code",
   "execution_count": 13,
   "metadata": {
    "collapsed": false
   },
   "outputs": [
    {
     "name": "stdout",
     "output_type": "stream",
     "text": [
      "                            OLS Regression Results                            \n",
      "==============================================================================\n",
      "Dep. Variable:                      y   R-squared:                       0.012\n",
      "Model:                            OLS   Adj. R-squared:                  0.011\n",
      "Method:                 Least Squares   F-statistic:                     58.94\n",
      "Date:                Wed, 14 Oct 2015   Prob (F-statistic):           1.94e-14\n",
      "Time:                        15:18:05   Log-Likelihood:                -3848.6\n",
      "No. Observations:                5002   AIC:                             7701.\n",
      "Df Residuals:                    5000   BIC:                             7714.\n",
      "Df Model:                           1                                         \n",
      "Covariance Type:            nonrobust                                         \n",
      "==============================================================================\n",
      "                 coef    std err          t      P>|t|      [95.0% Conf. Int.]\n",
      "------------------------------------------------------------------------------\n",
      "const          6.9178      0.019    359.148      0.000         6.880     6.956\n",
      "x1             0.0822      0.011      7.677      0.000         0.061     0.103\n",
      "==============================================================================\n",
      "Omnibus:                     2065.969   Durbin-Watson:                   1.631\n",
      "Prob(Omnibus):                  0.000   Jarque-Bera (JB):            23288.009\n",
      "Skew:                           1.656   Prob(JB):                         0.00\n",
      "Kurtosis:                      13.039   Cond. No.                         5.98\n",
      "==============================================================================\n",
      "\n",
      "Warnings:\n",
      "[1] Standard Errors assume that the covariance matrix of the errors is correctly specified.\n"
     ]
    }
   ],
   "source": [
    "X = sm.add_constant(np.log10(units[index_clean]))\n",
    "# print X\n",
    "mmod = sm.OLS(np.log10(total[index_clean]), X, missing='drop').fit() # ignores entires where x or y is NaN\n",
    "print mmod.summary()"
   ]
  },
  {
   "cell_type": "markdown",
   "metadata": {},
   "source": [
    "#### Numpy polyfit"
   ]
  },
  {
   "cell_type": "code",
   "execution_count": 14,
   "metadata": {
    "collapsed": false
   },
   "outputs": [
    {
     "name": "stdout",
     "output_type": "stream",
     "text": [
      "[  2.68002739e+05   1.15362632e+08]\n"
     ]
    },
    {
     "data": {
      "text/plain": [
       "(1000, 1000000000.0)"
      ]
     },
     "execution_count": 14,
     "metadata": {},
     "output_type": "execute_result"
    },
    {
     "data": {
      "image/png": "[encoded data removed]",
      "text/plain": [
       "<matplotlib.figure.Figure at 0x11857f5d0>"
      ]
     },
     "metadata": {},
     "output_type": "display_data"
    }
   ],
   "source": [
    "poly = np.polyfit(units[index_clean],total[index_clean],1)\n",
    "print poly\n",
    "\n",
    "p = np.poly1d(poly)\n",
    "\n",
    "pl.xlabel('Number of Units/Bldg')\n",
    "pl.ylabel('Total Energy Use/Bldg')\n",
    "pl.title('Fitting Total Energy Use to Number of Units')\n",
    "pl.plot(units[index_clean], p(units[index_clean]), '.')\n",
    "pl.plot(units[index_clean], total[index_clean], '.', color='black')\n",
    "pl.xlim((0,1500))\n",
    "pl.ylim((1000,.1e10))"
   ]
  },
  {
   "cell_type": "code",
   "execution_count": 15,
   "metadata": {
    "collapsed": false
   },
   "outputs": [
    {
     "name": "stdout",
     "output_type": "stream",
     "text": [
      "[  2.18706921e-09   1.08046034e+02]\n"
     ]
    },
    {
     "data": {
      "text/plain": [
       "(1000, 1000000000.0)"
      ]
     },
     "execution_count": 15,
     "metadata": {},
     "output_type": "execute_result"
    },
    {
     "data": {
      "image/png": "[encoded data removed]",
      "text/plain": [
       "<matplotlib.figure.Figure at 0x11cf84250>"
      ]
     },
     "metadata": {},
     "output_type": "display_data"
    }
   ],
   "source": [
    "oly = np.polyfit(total[index_clean],units[index_clean],1)\n",
    "print oly\n",
    "\n",
    "o = np.poly1d(oly)\n",
    "\n",
    "pl.xlabel('Total Energy Use/Bldg')\n",
    "pl.ylabel('Number of Units/Bldg')\n",
    "pl.title('Fitting Number of Units to Total Energy Use')\n",
    "pl.plot(total[index_clean], o(total[index_clean]), '.')\n",
    "pl.plot(total[index_clean], units[index_clean], '.', color='black')\n",
    "pl.ylim((0,1500))\n",
    "pl.xlim((1000,.1e10))"
   ]
  },
  {
   "cell_type": "markdown",
   "metadata": {},
   "source": [
    "#### Scipy linregress"
   ]
  },
  {
   "cell_type": "code",
   "execution_count": 16,
   "metadata": {
    "collapsed": false
   },
   "outputs": [],
   "source": [
    "# import scipy as sc\n",
    "# sc.stats.linregress(units[index_clean],total[index_clean])"
   ]
  },
  {
   "cell_type": "markdown",
   "metadata": {
    "collapsed": true
   },
   "source": [
    "#####Which is better? \n",
    "Fitting the total energy use (y-axis) to the number of units (x-axis) creates a better fit than the other way around. It makes more sense for the number of units to be the indepenent variable, because the number of units is tied to the number of energy users.\n",
    "\n",
    "#####Could you do a likelihood ratio test here? why or why not??\n",
    "The likelihood ratio test is not appropriate here because there is only one degree of freedom and this log-likelihood uses a chi-squared distribution.\n"
   ]
  },
  {
   "cell_type": "markdown",
   "metadata": {},
   "source": [
    "###Creating a second degree polynomial fit -- ax^2+bx+c"
   ]
  },
  {
   "cell_type": "code",
   "execution_count": 17,
   "metadata": {
    "collapsed": false
   },
   "outputs": [
    {
     "data": {
      "text/plain": [
       "(1000, 1000000000.0)"
      ]
     },
     "execution_count": 17,
     "metadata": {},
     "output_type": "execute_result"
    },
    {
     "data": {
      "image/png": "[encoded data removed]",
      "text/plain": [
       "<matplotlib.figure.Figure at 0x1198b6f90>"
      ]
     },
     "metadata": {},
     "output_type": "display_data"
    }
   ],
   "source": [
    "poly2 = np.polyfit(units[index_clean], total[index_clean], 2)\n",
    "\n",
    "p2 = np.poly1d(poly2)\n",
    "\n",
    "plot(units[index_clean], p2(units[index_clean]), '.')\n",
    "pl.plot(units[index_clean], total[index_clean], '.', color='black')\n",
    "pl.xlim((0,1500))\n",
    "pl.ylim((1000,.1e10))"
   ]
  },
  {
   "cell_type": "markdown",
   "metadata": {
    "collapsed": true
   },
   "source": [
    "#####Which is better?\n",
    "\n",
    "The second dregree polynomial is a better fit compared to the straight line. Ultimatlely, neither of the lines seem to fit the data very well. This may mean that there are multiple trends in the data which need to be separated in order for it to accurately modeled using these parameters.\n",
    "\n",
    "#####Could you do a likelihood ratio test here? Why or why not??\n",
    "The likelihood ratio test can be performed now because there are degrees of freedom, from the second degree polynomial."
   ]
  },
  {
   "cell_type": "code",
   "execution_count": null,
   "metadata": {
    "collapsed": true
   },
   "outputs": [],
   "source": []
  }
 ],
 "metadata": {
  "kernelspec": {
   "display_name": "Python 2",
   "language": "python",
   "name": "python2"
  },
  "language_info": {
   "codemirror_mode": {
    "name": "ipython",
    "version": 2
   },
   "file_extension": ".py",
   "mimetype": "text/x-python",
   "name": "python",
   "nbconvert_exporter": "python",
   "pygments_lexer": "ipython2",
   "version": "2.7.10"
  }
 },
 "nbformat": 4,
 "nbformat_minor": 0
}
