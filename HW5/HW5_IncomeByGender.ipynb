{
 "cells": [
  {
   "cell_type": "markdown",
   "metadata": {},
   "source": [
    "Questions for TA:\n",
    "\n",
    "OLS results coming back nan.\n",
    "\n",
    "How to plot statsmodel OLS results"
   ]
  },
  {
   "cell_type": "code",
   "execution_count": 158,
   "metadata": {
    "collapsed": false
   },
   "outputs": [
    {
     "name": "stdout",
     "output_type": "stream",
     "text": [
      "Populating the interactive namespace from numpy and matplotlib\n"
     ]
    }
   ],
   "source": [
    "import pandas as pd\n",
    "import sys\n",
    "import os\n",
    "import numpy \n",
    "import pylab as pl\n",
    "import json\n",
    "import os\n",
    "import statsmodels.api as sm\n",
    "from scipy import stats\n",
    "%pylab inline"
   ]
  },
  {
   "cell_type": "markdown",
   "metadata": {},
   "source": [
    "###Problem background"
   ]
  },
  {
   "cell_type": "code",
   "execution_count": 159,
   "metadata": {
    "collapsed": false
   },
   "outputs": [
    {
     "data": {
      "text/html": [
       "\n",
       "        <iframe\n",
       "            width=\"400\"\n",
       "            height=\"300\"\n",
       "            src=\"https://www.youtube.com/embed/G_ikzQM93W8\"\n",
       "            frameborder=\"0\"\n",
       "            allowfullscreen\n",
       "        ></iframe>\n",
       "        "
      ],
      "text/plain": [
       "<IPython.lib.display.YouTubeVideo at 0x1a7253410>"
      ]
     },
     "execution_count": 159,
     "metadata": {},
     "output_type": "execute_result"
    }
   ],
   "source": [
    "from IPython.display import YouTubeVideo\n",
    "YouTubeVideo(\"G_ikzQM93W8\")"
   ]
  },
  {
   "cell_type": "markdown",
   "metadata": {},
   "source": [
    "### Importing data and creating subsets by gender"
   ]
  },
  {
   "cell_type": "code",
   "execution_count": 160,
   "metadata": {
    "collapsed": true
   },
   "outputs": [],
   "source": [
    "url='http://cosmo.nyu.edu/~fb55/UI_CUSP_2015/data/'\n",
    "allmales = {}\n",
    "allfemales = {}\n",
    "\n",
    "allmales['all'] = pd.read_excel(url+'/pinc08_2_1_1.xls',header=9)\n",
    "allmales['white'] = pd.read_excel(url+'/pinc08_2_1_4.xls', header=9)\n",
    "allmales['black'] = pd.read_excel(url+'/pinc08_2_1_6.xls', header=9)\n",
    "allmales['hispanic'] = pd.read_excel(url+'/pinc08_2_1_9.xls', header=9)\n",
    "allmales['asian'] = pd.read_excel(url+'/pinc08_2_1_8.xls', header=9)\n",
    "\n",
    "allfemales['all']=pd.read_excel(url+'/pinc08_3_1_1.xls', header=9)\n",
    "allfemales['white']=pd.read_excel(url+'/pinc08_3_1_4.xls', header=9)\n",
    "allfemales['black']=pd.read_excel(url+'/pinc08_3_1_6.xls', header=9)\n",
    "allfemales['hispanic']=pd.read_excel(url+'/pinc08_3_1_9.xls', header=9)\n",
    "allfemales['asian']=pd.read_excel(url+'/pinc08_3_1_8.xls', header=9)"
   ]
  },
  {
   "cell_type": "markdown",
   "metadata": {},
   "source": [
    "###Data exploration"
   ]
  },
  {
   "cell_type": "code",
   "execution_count": 161,
   "metadata": {
    "collapsed": false
   },
   "outputs": [],
   "source": [
    "# from pandas.tools.plotting import scatter_matrix\n",
    "# scatter_matrix(allmales['all'], alpha=0.2, figsize=(10, 10), diagonal='kde')\n",
    "# allmales['all'].head(10)"
   ]
  },
  {
   "cell_type": "markdown",
   "metadata": {},
   "source": [
    "###Data cleanup"
   ]
  },
  {
   "cell_type": "code",
   "execution_count": 162,
   "metadata": {
    "collapsed": false
   },
   "outputs": [
    {
     "name": "stderr",
     "output_type": "stream",
     "text": [
      "/anaconda/lib/python2.7/site-packages/IPython/kernel/__main__.py:5: SettingWithCopyWarning: \n",
      "A value is trying to be set on a copy of a slice from a DataFrame\n",
      "\n",
      "See the the caveats in the documentation: http://pandas.pydata.org/pandas-docs/stable/indexing.html#indexing-view-versus-copy\n"
     ]
    }
   ],
   "source": [
    "for k in allmales:\n",
    "    nonreal  = allmales[k].applymap(np.isreal)\n",
    "    for c in allmales[k].columns :\n",
    "        if nonreal.sum()[c]>1 and nonreal.sum()[c]<49:\n",
    "            allmales[k][c][~nonreal[c]] = np.float('NaN')\n",
    "            allmales[k][c] = allmales[k][c].astype(float)"
   ]
  },
  {
   "cell_type": "code",
   "execution_count": 163,
   "metadata": {
    "collapsed": false
   },
   "outputs": [
    {
     "name": "stderr",
     "output_type": "stream",
     "text": [
      "/anaconda/lib/python2.7/site-packages/IPython/kernel/__main__.py:5: SettingWithCopyWarning: \n",
      "A value is trying to be set on a copy of a slice from a DataFrame\n",
      "\n",
      "See the the caveats in the documentation: http://pandas.pydata.org/pandas-docs/stable/indexing.html#indexing-view-versus-copy\n"
     ]
    }
   ],
   "source": [
    "for k in allfemales:\n",
    "    nonreal  = allfemales[k].applymap(np.isreal)\n",
    "    for c in allfemales[k].columns :\n",
    "        if nonreal.sum()[c]>1 and nonreal.sum()[c]<49:\n",
    "            allfemales[k][c][~nonreal[c]] = np.float('NaN')\n",
    "            allfemales[k][c] = allfemales[k][c].astype(float)"
   ]
  },
  {
   "cell_type": "markdown",
   "metadata": {},
   "source": [
    "###Comparing the medians of the gender and race subsets"
   ]
  },
  {
   "cell_type": "code",
   "execution_count": 164,
   "metadata": {
    "collapsed": false
   },
   "outputs": [
    {
     "name": "stdout",
     "output_type": "stream",
     "text": [
      "[35228.0, 40122.0, 24855.0, 25411.0, 40153.0]\n",
      "[22063.0, 23780.0, 20044.0, 17762.0, 24840.0]\n"
     ]
    }
   ],
   "source": [
    "m_all_med = allmales['all']['Median income'][1]\n",
    "m_white_med = allmales['white']['Median income'][1]\n",
    "m_black_med = allmales['black']['Median income'][1]\n",
    "m_hispanic_med = allmales['hispanic']['Median income'][1]\n",
    "m_asian_med = allmales['asian']['Median income'][1]\n",
    "print [m_all_med, m_white_med, m_black_med, m_hispanic_med, m_asian_med]\n",
    "\n",
    "m_all = allmales['all']['Median income'].values\n",
    "m_white = allmales['white']['Median income'].values\n",
    "m_black = allmales['black']['Median income'].values\n",
    "m_hispanic = allmales['hispanic']['Median income'].values\n",
    "m_asian = allmales['asian']['Median income'].values\n",
    "\n",
    "f_all_med = allfemales['all']['Median income'][1]\n",
    "f_white_med = allfemales['white']['Median income'][1]\n",
    "f_black_med = allfemales['black']['Median income'][1]\n",
    "f_hispanic_med = allfemales['hispanic']['Median income'][1]\n",
    "f_asian_med = allfemales['asian']['Median income'][1]\n",
    "print [f_all_med, f_white_med, f_black_med, f_hispanic_med, f_asian_med]\n",
    "\n",
    "f_all = allfemales['all']['Median income'].values\n",
    "f_white = allfemales['white']['Median income'].values\n",
    "f_black = allfemales['black']['Median income'].values\n",
    "f_hispanic = allfemales['hispanic']['Median income'].values\n",
    "f_asian = allfemales['asian']['Median income'].values"
   ]
  },
  {
   "cell_type": "code",
   "execution_count": 165,
   "metadata": {
    "collapsed": false
   },
   "outputs": [
    {
     "data": {
      "text/plain": [
       "<matplotlib.text.Annotation at 0x1a91b8510>"
      ]
     },
     "execution_count": 165,
     "metadata": {},
     "output_type": "execute_result"
    },
    {
     "data": {
      "image/png": "[encoded data removed]",
      "text/plain": [
       "<matplotlib.figure.Figure at 0x1a8322bd0>"
      ]
     },
     "metadata": {},
     "output_type": "display_data"
    }
   ],
   "source": [
    "x = numpy.arange(0,45000,1)\n",
    "pl.plot(x, x, color='black')\n",
    "\n",
    "pl.xlabel('Male Median Income')\n",
    "pl.ylabel('Female Median Income')\n",
    "\n",
    "pl.scatter(m_all, f_all, color='grey')\n",
    "\n",
    "pl.plot(m_all_med, f_all_med, '+', color='blue', mew=10)\n",
    "pl.annotate('all', xy=(m_all_med, f_all_med), xytext=(m_all_med+200, f_all_med+200))\n",
    "\n",
    "pl.plot(m_white_med, f_white_med, '+', color='blue', mew=10)\n",
    "pl.annotate('white', xy=(m_white_med, f_white_med), xytext=(m_white_med+200, f_white_med+200))\n",
    "\n",
    "pl.plot(m_black_med, f_black_med, '+', color='blue', mew=10)\n",
    "pl.annotate('black', xy=(m_black_med, f_black_med), xytext=(m_black_med+200, f_black_med+200))\n",
    "\n",
    "pl.plot(m_hispanic_med, f_hispanic_med, '+', color='green', mew=10)\n",
    "pl.annotate('hispanic', xy=(m_hispanic_med, f_hispanic_med), xytext=(m_hispanic_med+200, f_hispanic_med+200))\n",
    "\n",
    "pl.plot(m_asian_med, f_asian_med, '+', color='green', mew=10)\n",
    "pl.annotate('asian', xy=(m_asian_med, f_asian_med), xytext=(m_asian_med+200, f_asian_med+200))"
   ]
  },
  {
   "cell_type": "markdown",
   "metadata": {},
   "source": [
    "###Linear regression"
   ]
  },
  {
   "cell_type": "markdown",
   "metadata": {},
   "source": [
    "####Statsmodel OLS"
   ]
  },
  {
   "cell_type": "code",
   "execution_count": 166,
   "metadata": {
    "collapsed": false
   },
   "outputs": [
    {
     "name": "stdout",
     "output_type": "stream",
     "text": [
      "                            OLS Regression Results                            \n",
      "==============================================================================\n",
      "Dep. Variable:                      y   R-squared:                         nan\n",
      "Model:                            OLS   Adj. R-squared:                    nan\n",
      "Method:                 Least Squares   F-statistic:                       nan\n",
      "Date:                Wed, 14 Oct 2015   Prob (F-statistic):                nan\n",
      "Time:                        11:24:48   Log-Likelihood:                    nan\n",
      "No. Observations:                  49   AIC:                               nan\n",
      "Df Residuals:                      49   BIC:                               nan\n",
      "Df Model:                          -1                                         \n",
      "Covariance Type:            nonrobust                                         \n",
      "==============================================================================\n",
      "                 coef    std err          t      P>|t|      [95.0% Conf. Int.]\n",
      "------------------------------------------------------------------------------\n",
      "x1                nan        nan        nan        nan           nan       nan\n",
      "const             nan        nan        nan        nan           nan       nan\n",
      "==============================================================================\n",
      "Omnibus:                          nan   Durbin-Watson:                     nan\n",
      "Prob(Omnibus):                    nan   Jarque-Bera (JB):                  nan\n",
      "Skew:                             nan   Prob(JB):                          nan\n",
      "Kurtosis:                         nan   Cond. No.                          nan\n",
      "==============================================================================\n",
      "\n",
      "Warnings:\n",
      "[1] Standard Errors assume that the covariance matrix of the errors is correctly specified.\n"
     ]
    }
   ],
   "source": [
    "x = sm.add_constant(m_all)\n",
    "# print x\n",
    "mmod = sm.OLS(f_all,x).fit()\n",
    "print mmod.summary()"
   ]
  },
  {
   "cell_type": "code",
   "execution_count": 171,
   "metadata": {
    "collapsed": true
   },
   "outputs": [],
   "source": [
    "# plt.figure();\n",
    "\n",
    "# In [33]: plt.plot(x, y, 'o', x, y_true, 'b-');\n",
    "\n",
    "# In [34]: prstd, iv_l, iv_u = wls_prediction_std(res);\n",
    "\n",
    "# In [35]: plt.plot(x, res.fittedvalues, 'r--.');\n",
    "\n",
    "# In [36]: plt.plot(x, iv_u, 'r--');\n",
    "\n",
    "# In [37]: plt.plot(x, iv_l, 'r--');\n",
    "\n",
    "# In [38]: plt.title('blue: true,   red: OLS');\n",
    "\n",
    "# http://statsmodels.sourceforge.net/devel/examples/generated/example_ols.html"
   ]
  },
  {
   "cell_type": "markdown",
   "metadata": {},
   "source": [
    "####Numpy option"
   ]
  },
  {
   "cell_type": "code",
   "execution_count": null,
   "metadata": {
    "collapsed": true
   },
   "outputs": [],
   "source": [
    "# pl.plot(newx,np.poly1d(np.ployfit(allmales['all']['Median income'][:],allfemales['all']['Median income'][:],1))(newx)"
   ]
  },
  {
   "cell_type": "markdown",
   "metadata": {},
   "source": [
    "####Analytical method"
   ]
  },
  {
   "cell_type": "code",
   "execution_count": 173,
   "metadata": {
    "collapsed": false
   },
   "outputs": [],
   "source": [
    "cor = stats.spearmanr(m_all, f_all)\n",
    "# m_all.std()/f_all.std()\n",
    "beta1 = cor[0]*f_all.std()/m_all.std()\n",
    "beta0 = f_all.mean()-beta1*m_all.mean()"
   ]
  },
  {
   "cell_type": "markdown",
   "metadata": {},
   "source": [
    "####Plot comparison"
   ]
  },
  {
   "cell_type": "code",
   "execution_count": null,
   "metadata": {
    "collapsed": true
   },
   "outputs": [],
   "source": []
  },
  {
   "cell_type": "markdown",
   "metadata": {},
   "source": [
    "####Line fit by race"
   ]
  },
  {
   "cell_type": "code",
   "execution_count": null,
   "metadata": {
    "collapsed": true
   },
   "outputs": [],
   "source": [
    "all_males=np.ma.array(np.concatenate([m_all,\n",
    "                                      m_white,\n",
    "                                      m_black,\n",
    "                                      m_hispanic,\n",
    "                                      m_asian]).flatten())\n",
    "\n",
    "all_females=np.ma.array(np.concatenate([f_all,\n",
    "                                      f_white,\n",
    "                                      f_black,\n",
    "                                      f_hispanic,\n",
    "                                      f_asian]).flatten())\n",
    "\n",
    "#I am gonna create the mask int he next line. \n",
    "#the mask is True where either male or female value is Nan. \n",
    "#Notice that True is really just >1, and False really 0. \n",
    "#so i can add the male and female mask and the resulting mask will be \n",
    "#False where both arrays are not Nan, and true otherwise. \n",
    "\n",
    "allmask = [np.isnan(all_males) + np.isnan(all_females)]\n",
    "\n",
    "all_females.mask = allmask\n",
    "all_males.mask = allmask"
   ]
  }
 ],
 "metadata": {
  "kernelspec": {
   "display_name": "Python 2",
   "language": "python",
   "name": "python2"
  },
  "language_info": {
   "codemirror_mode": {
    "name": "ipython",
    "version": 2
   },
   "file_extension": ".py",
   "mimetype": "text/x-python",
   "name": "python",
   "nbconvert_exporter": "python",
   "pygments_lexer": "ipython2",
   "version": "2.7.10"
  }
 },
 "nbformat": 4,
 "nbformat_minor": 0
}
